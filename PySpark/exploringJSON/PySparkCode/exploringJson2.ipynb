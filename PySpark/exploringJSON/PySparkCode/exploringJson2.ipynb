{
 "cells": [
  {
   "cell_type": "code",
   "execution_count": 3,
   "id": "1370f80f",
   "metadata": {},
   "outputs": [],
   "source": [
    "from pyspark.sql import SparkSession\n",
    "\n",
    "\n",
    "spark = SparkSession.builder \\\n",
    ".appName(\"ShobhitApp\") \\\n",
    ".getOrCreate()"
   ]
  },
  {
   "cell_type": "code",
   "execution_count": 4,
   "id": "0b8281a4",
   "metadata": {},
   "outputs": [],
   "source": [
    "from pyspark.sql.functions import col,explode"
   ]
  },
  {
   "cell_type": "code",
   "execution_count": 9,
   "id": "b59aaa28",
   "metadata": {},
   "outputs": [
    {
     "name": "stdout",
     "output_type": "stream",
     "text": [
      "[ \n",
      "    {\n",
      "   \"USERID\":1,\n",
      "   \"Name\":\"John\",\n",
      "   \"Mobile\":82345678,\n",
      "   \"Flag\":true,\n",
      "   \"Some_array\":[1,2,3,4,5]\n",
      "    },\n",
      "     {\n",
      "   \"USERID\":2,\n",
      "   \"Name\":\"Sam\",\n",
      "   \"Mobile\":72345678,\n",
      "   \"Flag\":false,\n",
      "   \"Some_array\":[11,12,3,14,5]\n",
      "    }\n",
      "\n",
      "]"
     ]
    }
   ],
   "source": [
    "%%sh\n",
    "hdfs dfs -cat /user/itv000197/multRowwithArray.json"
   ]
  },
  {
   "cell_type": "code",
   "execution_count": 10,
   "id": "7d98440e",
   "metadata": {},
   "outputs": [],
   "source": [
    "df = spark.read.option(\"multiline\",\"true\").json(\"/user/itv000197/multRowwithArray.json\")"
   ]
  },
  {
   "cell_type": "code",
   "execution_count": 11,
   "id": "1404364a",
   "metadata": {},
   "outputs": [
    {
     "data": {
      "text/plain": [
       "'struct<Flag:boolean,Mobile:bigint,Name:string,Some_array:array<bigint>,USERID:bigint>'"
      ]
     },
     "execution_count": 11,
     "metadata": {},
     "output_type": "execute_result"
    }
   ],
   "source": [
    "#df.schema.json()\n",
    "df.schema.simpleString()"
   ]
  },
  {
   "cell_type": "code",
   "execution_count": 12,
   "id": "9ea30a13",
   "metadata": {},
   "outputs": [
    {
     "name": "stdout",
     "output_type": "stream",
     "text": [
      "root\n",
      " |-- Flag: boolean (nullable = true)\n",
      " |-- Mobile: long (nullable = true)\n",
      " |-- Name: string (nullable = true)\n",
      " |-- Some_array: array (nullable = true)\n",
      " |    |-- element: long (containsNull = true)\n",
      " |-- USERID: long (nullable = true)\n",
      "\n"
     ]
    }
   ],
   "source": [
    "df.printSchema()"
   ]
  },
  {
   "cell_type": "code",
   "execution_count": 13,
   "id": "5ccbd4f5",
   "metadata": {},
   "outputs": [
    {
     "name": "stdout",
     "output_type": "stream",
     "text": [
      "+-----+--------+----+------------------+------+\n",
      "| Flag|  Mobile|Name|        Some_array|USERID|\n",
      "+-----+--------+----+------------------+------+\n",
      "| true|82345678|John|   [1, 2, 3, 4, 5]|     1|\n",
      "|false|72345678| Sam|[11, 12, 3, 14, 5]|     2|\n",
      "+-----+--------+----+------------------+------+\n",
      "\n"
     ]
    }
   ],
   "source": [
    "df.show()"
   ]
  },
  {
   "cell_type": "markdown",
   "id": "57533fe7",
   "metadata": {},
   "source": [
    "We can now explode the array"
   ]
  },
  {
   "cell_type": "code",
   "execution_count": 14,
   "id": "414fd43b",
   "metadata": {},
   "outputs": [
    {
     "data": {
      "text/html": [
       "<table border='1'>\n",
       "<tr><th>Flag</th><th>Mobile</th><th>Name</th><th>USERID</th><th>data_col</th></tr>\n",
       "<tr><td>true</td><td>82345678</td><td>John</td><td>1</td><td>1</td></tr>\n",
       "<tr><td>true</td><td>82345678</td><td>John</td><td>1</td><td>2</td></tr>\n",
       "<tr><td>true</td><td>82345678</td><td>John</td><td>1</td><td>3</td></tr>\n",
       "<tr><td>true</td><td>82345678</td><td>John</td><td>1</td><td>4</td></tr>\n",
       "<tr><td>true</td><td>82345678</td><td>John</td><td>1</td><td>5</td></tr>\n",
       "<tr><td>false</td><td>72345678</td><td>Sam</td><td>2</td><td>11</td></tr>\n",
       "<tr><td>false</td><td>72345678</td><td>Sam</td><td>2</td><td>12</td></tr>\n",
       "<tr><td>false</td><td>72345678</td><td>Sam</td><td>2</td><td>3</td></tr>\n",
       "<tr><td>false</td><td>72345678</td><td>Sam</td><td>2</td><td>14</td></tr>\n",
       "<tr><td>false</td><td>72345678</td><td>Sam</td><td>2</td><td>5</td></tr>\n",
       "</table>\n"
      ],
      "text/plain": [
       "+-----+--------+----+------+--------+\n",
       "| Flag|  Mobile|Name|USERID|data_col|\n",
       "+-----+--------+----+------+--------+\n",
       "| true|82345678|John|     1|       1|\n",
       "| true|82345678|John|     1|       2|\n",
       "| true|82345678|John|     1|       3|\n",
       "| true|82345678|John|     1|       4|\n",
       "| true|82345678|John|     1|       5|\n",
       "|false|72345678| Sam|     2|      11|\n",
       "|false|72345678| Sam|     2|      12|\n",
       "|false|72345678| Sam|     2|       3|\n",
       "|false|72345678| Sam|     2|      14|\n",
       "|false|72345678| Sam|     2|       5|\n",
       "+-----+--------+----+------+--------+"
      ]
     },
     "execution_count": 14,
     "metadata": {},
     "output_type": "execute_result"
    }
   ],
   "source": [
    "df.select(\"Flag\",\"Mobile\",\"Name\",\"USERID\",explode(col(\"Some_array\")).alias(\"data_col\"))"
   ]
  }
 ],
 "metadata": {
  "kernelspec": {
   "display_name": "Pyspark 2",
   "language": "python",
   "name": "pyspark2"
  },
  "language_info": {
   "codemirror_mode": {
    "name": "ipython",
    "version": 3
   },
   "file_extension": ".py",
   "mimetype": "text/x-python",
   "name": "python",
   "nbconvert_exporter": "python",
   "pygments_lexer": "ipython3",
   "version": "3.6.12"
  }
 },
 "nbformat": 4,
 "nbformat_minor": 5
}
