{
 "cells": [
  {
   "cell_type": "code",
   "execution_count": 1,
   "id": "391e5977",
   "metadata": {},
   "outputs": [],
   "source": [
    "from pyspark.sql import SparkSession\n",
    "\n",
    "\n",
    "spark = SparkSession.builder \\\n",
    ".appName(\"ShobhitApp\") \\\n",
    ".getOrCreate()"
   ]
  },
  {
   "cell_type": "code",
   "execution_count": 2,
   "id": "bc89e400",
   "metadata": {},
   "outputs": [],
   "source": [
    "from pyspark.sql.functions import col,explode"
   ]
  },
  {
   "cell_type": "code",
   "execution_count": 11,
   "id": "746d04c3",
   "metadata": {},
   "outputs": [
    {
     "name": "stdout",
     "output_type": "stream",
     "text": [
      "[ \n",
      "    {\n",
      "   \"USERID\":1,\n",
      "   \"Name\":\"John\",\n",
      "   \"Mobile\":82345678,\n",
      "   \"Flag\":true\n",
      "    },\n",
      "     {\n",
      "   \"USERID\":2,\n",
      "   \"Name\":\"Sam\",\n",
      "   \"Mobile\":72345678,\n",
      "   \"Flag\":false\n",
      "    }\n",
      "\n",
      "]"
     ]
    }
   ],
   "source": [
    "%%sh\n",
    "hdfs dfs -cat /user/itv000197/multRow.json"
   ]
  },
  {
   "cell_type": "code",
   "execution_count": 12,
   "id": "8520bf66",
   "metadata": {},
   "outputs": [],
   "source": [
    "df = spark.read.option(\"multiline\",\"true\").json(\"/user/itv000197/multRow.json\")"
   ]
  },
  {
   "cell_type": "code",
   "execution_count": 13,
   "id": "f6f26b4f",
   "metadata": {},
   "outputs": [
    {
     "data": {
      "text/plain": [
       "'struct<Flag:boolean,Mobile:bigint,Name:string,USERID:bigint>'"
      ]
     },
     "execution_count": 13,
     "metadata": {},
     "output_type": "execute_result"
    }
   ],
   "source": [
    "#df.schema.json()\n",
    "df.schema.simpleString()"
   ]
  },
  {
   "cell_type": "code",
   "execution_count": 14,
   "id": "c9abc15c",
   "metadata": {},
   "outputs": [
    {
     "name": "stdout",
     "output_type": "stream",
     "text": [
      "root\n",
      " |-- Flag: boolean (nullable = true)\n",
      " |-- Mobile: long (nullable = true)\n",
      " |-- Name: string (nullable = true)\n",
      " |-- USERID: long (nullable = true)\n",
      "\n"
     ]
    }
   ],
   "source": [
    "df.printSchema()"
   ]
  },
  {
   "cell_type": "code",
   "execution_count": 15,
   "id": "1c46e79e",
   "metadata": {},
   "outputs": [
    {
     "name": "stdout",
     "output_type": "stream",
     "text": [
      "+-----+--------+----+------+\n",
      "| Flag|  Mobile|Name|USERID|\n",
      "+-----+--------+----+------+\n",
      "| true|82345678|John|     1|\n",
      "|false|72345678| Sam|     2|\n",
      "+-----+--------+----+------+\n",
      "\n"
     ]
    }
   ],
   "source": [
    "df.show()"
   ]
  }
 ],
 "metadata": {
  "kernelspec": {
   "display_name": "Pyspark 2",
   "language": "python",
   "name": "pyspark2"
  },
  "language_info": {
   "codemirror_mode": {
    "name": "ipython",
    "version": 3
   },
   "file_extension": ".py",
   "mimetype": "text/x-python",
   "name": "python",
   "nbconvert_exporter": "python",
   "pygments_lexer": "ipython3",
   "version": "3.6.12"
  }
 },
 "nbformat": 4,
 "nbformat_minor": 5
}
