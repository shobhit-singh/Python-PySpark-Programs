{
 "cells": [
  {
   "cell_type": "code",
   "execution_count": 1,
   "id": "bf39270b",
   "metadata": {},
   "outputs": [],
   "source": [
    "from pyspark.sql import SparkSession\n",
    "\n",
    "\n",
    "spark = SparkSession.builder \\\n",
    ".appName(\"ShobhitApp\") \\\n",
    ".getOrCreate()"
   ]
  },
  {
   "cell_type": "code",
   "execution_count": 2,
   "id": "24d371ca",
   "metadata": {},
   "outputs": [],
   "source": [
    "from pyspark.sql.functions import col,explode"
   ]
  },
  {
   "cell_type": "code",
   "execution_count": 3,
   "id": "2724f2f0",
   "metadata": {},
   "outputs": [
    {
     "name": "stdout",
     "output_type": "stream",
     "text": [
      "{\n",
      "  \"status\": true,\n",
      "  \"data\": {\n",
      "    \"title\": \"Top By Daily Interest\",\n",
      "    \"phones\": [\n",
      "      {\n",
      "        \"phone_name\": \"Samsung Galaxy A53 5G\",\n",
      "        \"slug\": \"samsung_galaxy_a53_5g-11268\",\n",
      "        \"hits\": 30283,\n",
      "        \"detail\": \"http://api-mobilespecs.azharimm.site/v2/samsung_galaxy_a53_5g-11268\"\n",
      "      },\n",
      "      {\n",
      "        \"phone_name\": \"Samsung Galaxy S22 Ultra 5G\",\n",
      "        \"slug\": \"samsung_galaxy_s22_ultra_5g-11251\",\n",
      "        \"hits\": 23673,\n",
      "        \"detail\": \"http://api-mobilespecs.azharimm.site/v2/samsung_galaxy_s22_ultra_5g-11251\"\n",
      "      },\n",
      "      {\n",
      "        \"phone_name\": \"Xiaomi Redmi Note 11\",\n",
      "        \"slug\": \"xiaomi_redmi_note_11-11336\",\n",
      "        \"hits\": 22833,\n",
      "        \"detail\": \"http://api-mobilespecs.azharimm.site/v2/xiaomi_redmi_note_11-11336\"\n",
      "      },\n",
      "      {\n",
      "        \"phone_name\": \"Samsung Galaxy A73 5G\",\n",
      "        \"slug\": \"samsung_galaxy_a73_5g-11257\",\n",
      "        \"hits\": 20059,\n",
      "        \"detail\": \"http://api-mobilespecs.azharimm.site/v2/samsung_galaxy_a73_5g-11257\"\n",
      "      },\n",
      "      {\n",
      "        \"phone_name\": \"Xiaomi Poco F4 GT\",\n",
      "        \"slug\": \"xiaomi_poco_f4_gt-11479\",\n",
      "        \"hits\": 19082,\n",
      "        \"detail\": \"http://api-mobilespecs.azharimm.site/v2/xiaomi_poco_f4_gt-11479\"\n",
      "      },\n",
      "      {\n",
      "        \"phone_name\": \"vivo X Note\",\n",
      "        \"slug\": \"vivo_x_note-11469\",\n",
      "        \"hits\": 17431,\n",
      "        \"detail\": \"http://api-mobilespecs.azharimm.site/v2/vivo_x_note-11469\"\n",
      "      },\n",
      "      {\n",
      "        \"phone_name\": \"Xiaomi 12 Pro\",\n",
      "        \"slug\": \"xiaomi_12_pro-11287\",\n",
      "        \"hits\": 17203,\n",
      "        \"detail\": \"http://api-mobilespecs.azharimm.site/v2/xiaomi_12_pro-11287\"\n",
      "      },\n",
      "      {\n",
      "        \"phone_name\": \"Apple iPhone 13 Pro Max\",\n",
      "        \"slug\": \"apple_iphone_13_pro_max-11089\",\n",
      "        \"hits\": 17016,\n",
      "        \"detail\": \"http://api-mobilespecs.azharimm.site/v2/apple_iphone_13_pro_max-11089\"\n",
      "      },\n",
      "      {\n",
      "        \"phone_name\": \"Samsung Galaxy A52s 5G\",\n",
      "        \"slug\": \"samsung_galaxy_a52s_5g-11039\",\n",
      "        \"hits\": 15458,\n",
      "        \"detail\": \"http://api-mobilespecs.azharimm.site/v2/samsung_galaxy_a52s_5g-11039\"\n",
      "      },\n",
      "      {\n",
      "        \"phone_name\": \"Samsung Galaxy A13\",\n",
      "        \"slug\": \"samsung_galaxy_a13-11402\",\n",
      "        \"hits\": 14677,\n",
      "        \"detail\": \"http://api-mobilespecs.azharimm.site/v2/samsung_galaxy_a13-11402\"\n",
      "      }\n",
      "    ]\n",
      "  }\n",
      "}"
     ]
    }
   ],
   "source": [
    "%%sh\n",
    "hdfs dfs -cat /user/itv000197/test2.json"
   ]
  },
  {
   "cell_type": "code",
   "execution_count": 4,
   "id": "8ae50866",
   "metadata": {},
   "outputs": [],
   "source": [
    "df = spark.read.option(\"multiline\",\"true\").json(\"/user/itv000197/test2.json\")"
   ]
  },
  {
   "cell_type": "code",
   "execution_count": 5,
   "id": "42e41f74",
   "metadata": {},
   "outputs": [
    {
     "data": {
      "text/plain": [
       "'struct<data:struct<phones:array<struct<detail:string,hits:bigint,phone_name:string,slug:string>>,title:string>,status:boolean>'"
      ]
     },
     "execution_count": 5,
     "metadata": {},
     "output_type": "execute_result"
    }
   ],
   "source": [
    "#df.schema.json()\n",
    "df.schema.simpleString()"
   ]
  },
  {
   "cell_type": "code",
   "execution_count": 6,
   "id": "06c8966e",
   "metadata": {},
   "outputs": [
    {
     "name": "stdout",
     "output_type": "stream",
     "text": [
      "root\n",
      " |-- data: struct (nullable = true)\n",
      " |    |-- phones: array (nullable = true)\n",
      " |    |    |-- element: struct (containsNull = true)\n",
      " |    |    |    |-- detail: string (nullable = true)\n",
      " |    |    |    |-- hits: long (nullable = true)\n",
      " |    |    |    |-- phone_name: string (nullable = true)\n",
      " |    |    |    |-- slug: string (nullable = true)\n",
      " |    |-- title: string (nullable = true)\n",
      " |-- status: boolean (nullable = true)\n",
      "\n"
     ]
    }
   ],
   "source": [
    "df.printSchema()"
   ]
  },
  {
   "cell_type": "code",
   "execution_count": 7,
   "id": "6a52dea8",
   "metadata": {},
   "outputs": [],
   "source": [
    "df_new = df.select(\"status\",\"data.title\",\"data.phones\")\\\n",
    ".select( \"status\",col(\"title\"),explode(col(\"phones\")).alias(\"data_col\"))\\\n",
    ".select(\"status\",\"title\",\"data_col.detail\",\"data_col.hits\",\"data_col.phone_name\",\"data_col.slug\")"
   ]
  },
  {
   "cell_type": "code",
   "execution_count": 8,
   "id": "5133646f",
   "metadata": {},
   "outputs": [
    {
     "name": "stdout",
     "output_type": "stream",
     "text": [
      "+------+--------------------+--------------------+-----+--------------------+--------------------+\n",
      "|status|               title|              detail| hits|          phone_name|                slug|\n",
      "+------+--------------------+--------------------+-----+--------------------+--------------------+\n",
      "|  true|Top By Daily Inte...|http://api-mobile...|30283|Samsung Galaxy A5...|samsung_galaxy_a5...|\n",
      "|  true|Top By Daily Inte...|http://api-mobile...|23673|Samsung Galaxy S2...|samsung_galaxy_s2...|\n",
      "|  true|Top By Daily Inte...|http://api-mobile...|22833|Xiaomi Redmi Note 11|xiaomi_redmi_note...|\n",
      "|  true|Top By Daily Inte...|http://api-mobile...|20059|Samsung Galaxy A7...|samsung_galaxy_a7...|\n",
      "|  true|Top By Daily Inte...|http://api-mobile...|19082|   Xiaomi Poco F4 GT|xiaomi_poco_f4_gt...|\n",
      "|  true|Top By Daily Inte...|http://api-mobile...|17431|         vivo X Note|   vivo_x_note-11469|\n",
      "|  true|Top By Daily Inte...|http://api-mobile...|17203|       Xiaomi 12 Pro| xiaomi_12_pro-11287|\n",
      "|  true|Top By Daily Inte...|http://api-mobile...|17016|Apple iPhone 13 P...|apple_iphone_13_p...|\n",
      "|  true|Top By Daily Inte...|http://api-mobile...|15458|Samsung Galaxy A5...|samsung_galaxy_a5...|\n",
      "|  true|Top By Daily Inte...|http://api-mobile...|14677|  Samsung Galaxy A13|samsung_galaxy_a1...|\n",
      "+------+--------------------+--------------------+-----+--------------------+--------------------+\n",
      "\n"
     ]
    }
   ],
   "source": [
    "df_new.show()"
   ]
  }
 ],
 "metadata": {
  "kernelspec": {
   "display_name": "Pyspark 2",
   "language": "python",
   "name": "pyspark2"
  },
  "language_info": {
   "codemirror_mode": {
    "name": "ipython",
    "version": 3
   },
   "file_extension": ".py",
   "mimetype": "text/x-python",
   "name": "python",
   "nbconvert_exporter": "python",
   "pygments_lexer": "ipython3",
   "version": "3.6.12"
  }
 },
 "nbformat": 4,
 "nbformat_minor": 5
}
