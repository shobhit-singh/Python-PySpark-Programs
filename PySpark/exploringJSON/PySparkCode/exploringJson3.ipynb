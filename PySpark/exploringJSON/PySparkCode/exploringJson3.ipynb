{
 "cells": [
  {
   "cell_type": "code",
   "execution_count": 1,
   "id": "d28faffd",
   "metadata": {},
   "outputs": [],
   "source": [
    "from pyspark.sql import SparkSession\n",
    "\n",
    "\n",
    "spark = SparkSession.builder \\\n",
    ".appName(\"ShobhitApp\") \\\n",
    ".getOrCreate()"
   ]
  },
  {
   "cell_type": "code",
   "execution_count": 2,
   "id": "971f3604",
   "metadata": {},
   "outputs": [],
   "source": [
    "from pyspark.sql.functions import col,explode"
   ]
  },
  {
   "cell_type": "code",
   "execution_count": 3,
   "id": "f71a440e",
   "metadata": {},
   "outputs": [
    {
     "name": "stdout",
     "output_type": "stream",
     "text": [
      "[\n",
      "  {\n",
      "    \"color\": \"red\",\n",
      "    \"value\": \"#f00\"\n",
      "  },\n",
      "  {\n",
      "    \"color\": \"green\",\n",
      "    \"value\": \"#0f0\"\n",
      "  },\n",
      "  {\n",
      "    \"color\": \"blue\",\n",
      "    \"value\": \"#00f\"\n",
      "  },\n",
      "  {\n",
      "    \"color\": \"cyan\",\n",
      "    \"value\": \"#0ff\"\n",
      "  },\n",
      "  {\n",
      "    \"color\": \"magenta\",\n",
      "    \"value\": \"#f0f\"\n",
      "  },\n",
      "  {\n",
      "    \"color\": \"yellow\",\n",
      "    \"value\": \"#ff0\"\n",
      "  },\n",
      "  {\n",
      "    \"color\": \"black\",\n",
      "    \"value\": \"#000\"\n",
      "  }\n",
      "]"
     ]
    }
   ],
   "source": [
    "%%sh\n",
    "hdfs dfs -cat /user/itv000197/data.json"
   ]
  },
  {
   "cell_type": "code",
   "execution_count": 4,
   "id": "1040f6fc",
   "metadata": {},
   "outputs": [],
   "source": [
    "df = spark.read.option(\"multiline\",\"true\").json(\"/user/itv000197/data.json\")"
   ]
  },
  {
   "cell_type": "code",
   "execution_count": 5,
   "id": "5b1a5dab",
   "metadata": {},
   "outputs": [
    {
     "data": {
      "text/plain": [
       "'struct<color:string,value:string>'"
      ]
     },
     "execution_count": 5,
     "metadata": {},
     "output_type": "execute_result"
    }
   ],
   "source": [
    "#df.schema.json()\n",
    "df.schema.simpleString()"
   ]
  },
  {
   "cell_type": "code",
   "execution_count": 6,
   "id": "7b28eb16",
   "metadata": {},
   "outputs": [
    {
     "name": "stdout",
     "output_type": "stream",
     "text": [
      "root\n",
      " |-- color: string (nullable = true)\n",
      " |-- value: string (nullable = true)\n",
      "\n"
     ]
    }
   ],
   "source": [
    "df.printSchema()"
   ]
  },
  {
   "cell_type": "code",
   "execution_count": 7,
   "id": "e8da3acd",
   "metadata": {},
   "outputs": [
    {
     "name": "stdout",
     "output_type": "stream",
     "text": [
      "+-------+-----+\n",
      "|  color|value|\n",
      "+-------+-----+\n",
      "|    red| #f00|\n",
      "|  green| #0f0|\n",
      "|   blue| #00f|\n",
      "|   cyan| #0ff|\n",
      "|magenta| #f0f|\n",
      "| yellow| #ff0|\n",
      "|  black| #000|\n",
      "+-------+-----+\n",
      "\n"
     ]
    }
   ],
   "source": [
    "df.show()"
   ]
  }
 ],
 "metadata": {
  "kernelspec": {
   "display_name": "Pyspark 2",
   "language": "python",
   "name": "pyspark2"
  },
  "language_info": {
   "codemirror_mode": {
    "name": "ipython",
    "version": 3
   },
   "file_extension": ".py",
   "mimetype": "text/x-python",
   "name": "python",
   "nbconvert_exporter": "python",
   "pygments_lexer": "ipython3",
   "version": "3.6.12"
  }
 },
 "nbformat": 4,
 "nbformat_minor": 5
}
