{
 "cells": [
  {
   "cell_type": "code",
   "execution_count": 1,
   "id": "321d66ac",
   "metadata": {},
   "outputs": [],
   "source": [
    "from pyspark.sql import SparkSession\n",
    "\n",
    "\n",
    "spark = SparkSession.builder \\\n",
    ".appName(\"ShobhitApp\") \\\n",
    ".getOrCreate()"
   ]
  },
  {
   "cell_type": "code",
   "execution_count": 2,
   "id": "330fc8ec",
   "metadata": {},
   "outputs": [],
   "source": [
    "from pyspark.sql.functions import col,explode,arrays_zip"
   ]
  },
  {
   "cell_type": "code",
   "execution_count": 3,
   "id": "813ff797",
   "metadata": {},
   "outputs": [
    {
     "name": "stdout",
     "output_type": "stream",
     "text": [
      "[\n",
      "  {\n",
      "    \"id\": \"0001\",\n",
      "    \"type\": \"donut\",\n",
      "    \"name\": \"Cake\",\n",
      "    \"ppu\": 0.55,\n",
      "    \"batters\": {\n",
      "      \"batter\": [\n",
      "        {\n",
      "          \"id\": \"1001\",\n",
      "          \"type\": \"Regular\"\n",
      "        },\n",
      "        {\n",
      "          \"id\": \"1002\",\n",
      "          \"type\": \"Chocolate\"\n",
      "        },\n",
      "        {\n",
      "          \"id\": \"1003\",\n",
      "          \"type\": \"Blueberry\"\n",
      "        },\n",
      "        {\n",
      "          \"id\": \"1004\",\n",
      "          \"type\": \"Devil's Food\"\n",
      "        }\n",
      "      ]\n",
      "    },\n",
      "    \"topping\": [\n",
      "      {\n",
      "        \"id\": \"5001\",\n",
      "        \"type\": \"None\"\n",
      "      },\n",
      "      {\n",
      "        \"id\": \"5002\",\n",
      "        \"type\": \"Glazed\"\n",
      "      },\n",
      "      {\n",
      "        \"id\": \"5005\",\n",
      "        \"type\": \"Sugar\"\n",
      "      },\n",
      "      {\n",
      "        \"id\": \"5007\",\n",
      "        \"type\": \"Powdered Sugar\"\n",
      "      },\n",
      "      {\n",
      "        \"id\": \"5006\",\n",
      "        \"type\": \"Chocolate with Sprinkles\"\n",
      "      },\n",
      "      {\n",
      "        \"id\": \"5003\",\n",
      "        \"type\": \"Chocolate\"\n",
      "      },\n",
      "      {\n",
      "        \"id\": \"5004\",\n",
      "        \"type\": \"Maple\"\n",
      "      }\n",
      "    ]\n",
      "  }\n",
      "]"
     ]
    }
   ],
   "source": [
    "%%sh\n",
    "hdfs dfs -cat /user/itv000197/nestedJson1row.json"
   ]
  },
  {
   "cell_type": "code",
   "execution_count": 4,
   "id": "73588f7b",
   "metadata": {},
   "outputs": [],
   "source": [
    "df = spark.read.option(\"multiline\",\"true\").json(\"/user/itv000197/nestedJson1row.json\")"
   ]
  },
  {
   "cell_type": "code",
   "execution_count": 5,
   "id": "36d434e0",
   "metadata": {},
   "outputs": [
    {
     "data": {
      "text/plain": [
       "'struct<batters:struct<batter:array<struct<id:string,type:string>>>,id:string,name:string,ppu:double,topping:array<struct<id:string,type:string>>,type:string>'"
      ]
     },
     "execution_count": 5,
     "metadata": {},
     "output_type": "execute_result"
    }
   ],
   "source": [
    "#df.schema.json()\n",
    "df.schema.simpleString()"
   ]
  },
  {
   "cell_type": "code",
   "execution_count": 6,
   "id": "5562fe5c",
   "metadata": {},
   "outputs": [
    {
     "name": "stdout",
     "output_type": "stream",
     "text": [
      "root\n",
      " |-- batters: struct (nullable = true)\n",
      " |    |-- batter: array (nullable = true)\n",
      " |    |    |-- element: struct (containsNull = true)\n",
      " |    |    |    |-- id: string (nullable = true)\n",
      " |    |    |    |-- type: string (nullable = true)\n",
      " |-- id: string (nullable = true)\n",
      " |-- name: string (nullable = true)\n",
      " |-- ppu: double (nullable = true)\n",
      " |-- topping: array (nullable = true)\n",
      " |    |-- element: struct (containsNull = true)\n",
      " |    |    |-- id: string (nullable = true)\n",
      " |    |    |-- type: string (nullable = true)\n",
      " |-- type: string (nullable = true)\n",
      "\n"
     ]
    }
   ],
   "source": [
    "df.printSchema()"
   ]
  },
  {
   "cell_type": "code",
   "execution_count": 7,
   "id": "f3d36cf4",
   "metadata": {},
   "outputs": [
    {
     "name": "stdout",
     "output_type": "stream",
     "text": [
      "+--------------------+----+----+----+--------------------+-----+\n",
      "|             batters|  id|name| ppu|             topping| type|\n",
      "+--------------------+----+----+----+--------------------+-----+\n",
      "|[[[1001, Regular]...|0001|Cake|0.55|[[5001, None], [5...|donut|\n",
      "+--------------------+----+----+----+--------------------+-----+\n",
      "\n"
     ]
    }
   ],
   "source": [
    "df.show()"
   ]
  },
  {
   "cell_type": "code",
   "execution_count": 8,
   "id": "453f8576",
   "metadata": {},
   "outputs": [],
   "source": [
    "df_new = df.select(\"id\",\"name\",\"ppu\",\"type\",\"batters.batter\",\"topping\")"
   ]
  },
  {
   "cell_type": "code",
   "execution_count": 9,
   "id": "61dc7996",
   "metadata": {},
   "outputs": [
    {
     "name": "stdout",
     "output_type": "stream",
     "text": [
      "+----+----+----+-----+--------------------+--------------------+\n",
      "|  id|name| ppu| type|              batter|             topping|\n",
      "+----+----+----+-----+--------------------+--------------------+\n",
      "|0001|Cake|0.55|donut|[[1001, Regular],...|[[5001, None], [5...|\n",
      "+----+----+----+-----+--------------------+--------------------+\n",
      "\n"
     ]
    }
   ],
   "source": [
    "df_new.show()"
   ]
  },
  {
   "cell_type": "code",
   "execution_count": 10,
   "id": "a2bb71db",
   "metadata": {},
   "outputs": [],
   "source": [
    "df_new1 = df_new.select( \"id\",\"name\",\"ppu\",\"type\", col(\"batter\"),explode(col(\"topping\")).alias(\"topping_exploded\"))"
   ]
  },
  {
   "cell_type": "code",
   "execution_count": 11,
   "id": "1171520e",
   "metadata": {},
   "outputs": [
    {
     "name": "stdout",
     "output_type": "stream",
     "text": [
      "+----+----+----+-----+--------------------+--------------------+\n",
      "|  id|name| ppu| type|              batter|    topping_exploded|\n",
      "+----+----+----+-----+--------------------+--------------------+\n",
      "|0001|Cake|0.55|donut|[[1001, Regular],...|        [5001, None]|\n",
      "|0001|Cake|0.55|donut|[[1001, Regular],...|      [5002, Glazed]|\n",
      "|0001|Cake|0.55|donut|[[1001, Regular],...|       [5005, Sugar]|\n",
      "|0001|Cake|0.55|donut|[[1001, Regular],...|[5007, Powdered S...|\n",
      "|0001|Cake|0.55|donut|[[1001, Regular],...|[5006, Chocolate ...|\n",
      "|0001|Cake|0.55|donut|[[1001, Regular],...|   [5003, Chocolate]|\n",
      "|0001|Cake|0.55|donut|[[1001, Regular],...|       [5004, Maple]|\n",
      "+----+----+----+-----+--------------------+--------------------+\n",
      "\n"
     ]
    }
   ],
   "source": [
    "df_new1.show(truncate=True)"
   ]
  },
  {
   "cell_type": "code",
   "execution_count": 12,
   "id": "089fb0c4",
   "metadata": {},
   "outputs": [
    {
     "data": {
      "text/html": [
       "<table border='1'>\n",
       "<tr><th>id</th><th>name</th><th>ppu</th><th>type</th><th>topping_exploded</th><th>batter_exploded</th></tr>\n",
       "<tr><td>0001</td><td>Cake</td><td>0.55</td><td>donut</td><td>[5001, None]</td><td>[1001, Regular]</td></tr>\n",
       "<tr><td>0001</td><td>Cake</td><td>0.55</td><td>donut</td><td>[5001, None]</td><td>[1002, Chocolate]</td></tr>\n",
       "<tr><td>0001</td><td>Cake</td><td>0.55</td><td>donut</td><td>[5001, None]</td><td>[1003, Blueberry]</td></tr>\n",
       "<tr><td>0001</td><td>Cake</td><td>0.55</td><td>donut</td><td>[5001, None]</td><td>[1004, Devil&#x27;s Food]</td></tr>\n",
       "<tr><td>0001</td><td>Cake</td><td>0.55</td><td>donut</td><td>[5002, Glazed]</td><td>[1001, Regular]</td></tr>\n",
       "<tr><td>0001</td><td>Cake</td><td>0.55</td><td>donut</td><td>[5002, Glazed]</td><td>[1002, Chocolate]</td></tr>\n",
       "<tr><td>0001</td><td>Cake</td><td>0.55</td><td>donut</td><td>[5002, Glazed]</td><td>[1003, Blueberry]</td></tr>\n",
       "<tr><td>0001</td><td>Cake</td><td>0.55</td><td>donut</td><td>[5002, Glazed]</td><td>[1004, Devil&#x27;s Food]</td></tr>\n",
       "<tr><td>0001</td><td>Cake</td><td>0.55</td><td>donut</td><td>[5005, Sugar]</td><td>[1001, Regular]</td></tr>\n",
       "<tr><td>0001</td><td>Cake</td><td>0.55</td><td>donut</td><td>[5005, Sugar]</td><td>[1002, Chocolate]</td></tr>\n",
       "<tr><td>0001</td><td>Cake</td><td>0.55</td><td>donut</td><td>[5005, Sugar]</td><td>[1003, Blueberry]</td></tr>\n",
       "<tr><td>0001</td><td>Cake</td><td>0.55</td><td>donut</td><td>[5005, Sugar]</td><td>[1004, Devil&#x27;s Food]</td></tr>\n",
       "<tr><td>0001</td><td>Cake</td><td>0.55</td><td>donut</td><td>[5007, Powdered S...</td><td>[1001, Regular]</td></tr>\n",
       "<tr><td>0001</td><td>Cake</td><td>0.55</td><td>donut</td><td>[5007, Powdered S...</td><td>[1002, Chocolate]</td></tr>\n",
       "<tr><td>0001</td><td>Cake</td><td>0.55</td><td>donut</td><td>[5007, Powdered S...</td><td>[1003, Blueberry]</td></tr>\n",
       "<tr><td>0001</td><td>Cake</td><td>0.55</td><td>donut</td><td>[5007, Powdered S...</td><td>[1004, Devil&#x27;s Food]</td></tr>\n",
       "<tr><td>0001</td><td>Cake</td><td>0.55</td><td>donut</td><td>[5006, Chocolate ...</td><td>[1001, Regular]</td></tr>\n",
       "<tr><td>0001</td><td>Cake</td><td>0.55</td><td>donut</td><td>[5006, Chocolate ...</td><td>[1002, Chocolate]</td></tr>\n",
       "<tr><td>0001</td><td>Cake</td><td>0.55</td><td>donut</td><td>[5006, Chocolate ...</td><td>[1003, Blueberry]</td></tr>\n",
       "<tr><td>0001</td><td>Cake</td><td>0.55</td><td>donut</td><td>[5006, Chocolate ...</td><td>[1004, Devil&#x27;s Food]</td></tr>\n",
       "</table>\n",
       "only showing top 20 rows\n"
      ],
      "text/plain": [
       "+----+----+----+-----+--------------------+--------------------+\n",
       "|  id|name| ppu| type|    topping_exploded|     batter_exploded|\n",
       "+----+----+----+-----+--------------------+--------------------+\n",
       "|0001|Cake|0.55|donut|        [5001, None]|     [1001, Regular]|\n",
       "|0001|Cake|0.55|donut|        [5001, None]|   [1002, Chocolate]|\n",
       "|0001|Cake|0.55|donut|        [5001, None]|   [1003, Blueberry]|\n",
       "|0001|Cake|0.55|donut|        [5001, None]|[1004, Devil's Food]|\n",
       "|0001|Cake|0.55|donut|      [5002, Glazed]|     [1001, Regular]|\n",
       "|0001|Cake|0.55|donut|      [5002, Glazed]|   [1002, Chocolate]|\n",
       "|0001|Cake|0.55|donut|      [5002, Glazed]|   [1003, Blueberry]|\n",
       "|0001|Cake|0.55|donut|      [5002, Glazed]|[1004, Devil's Food]|\n",
       "|0001|Cake|0.55|donut|       [5005, Sugar]|     [1001, Regular]|\n",
       "|0001|Cake|0.55|donut|       [5005, Sugar]|   [1002, Chocolate]|\n",
       "|0001|Cake|0.55|donut|       [5005, Sugar]|   [1003, Blueberry]|\n",
       "|0001|Cake|0.55|donut|       [5005, Sugar]|[1004, Devil's Food]|\n",
       "|0001|Cake|0.55|donut|[5007, Powdered S...|     [1001, Regular]|\n",
       "|0001|Cake|0.55|donut|[5007, Powdered S...|   [1002, Chocolate]|\n",
       "|0001|Cake|0.55|donut|[5007, Powdered S...|   [1003, Blueberry]|\n",
       "|0001|Cake|0.55|donut|[5007, Powdered S...|[1004, Devil's Food]|\n",
       "|0001|Cake|0.55|donut|[5006, Chocolate ...|     [1001, Regular]|\n",
       "|0001|Cake|0.55|donut|[5006, Chocolate ...|   [1002, Chocolate]|\n",
       "|0001|Cake|0.55|donut|[5006, Chocolate ...|   [1003, Blueberry]|\n",
       "|0001|Cake|0.55|donut|[5006, Chocolate ...|[1004, Devil's Food]|\n",
       "+----+----+----+-----+--------------------+--------------------+\n",
       "only showing top 20 rows"
      ]
     },
     "execution_count": 12,
     "metadata": {},
     "output_type": "execute_result"
    }
   ],
   "source": [
    "df_new1.select( \"id\",\"name\",\"ppu\",\"type\",col(\"topping_exploded\"),explode(col(\"batter\")).alias(\"batter_exploded\"))"
   ]
  },
  {
   "cell_type": "markdown",
   "id": "10b59f42",
   "metadata": {},
   "source": [
    "#### Explode multiple column as zip"
   ]
  },
  {
   "cell_type": "code",
   "execution_count": 13,
   "id": "dd3d396e",
   "metadata": {},
   "outputs": [
    {
     "data": {
      "text/html": [
       "<table border='1'>\n",
       "<tr><th>id</th><th>name</th><th>ppu</th><th>type</th><th>batter</th><th>topping</th></tr>\n",
       "<tr><td>0001</td><td>Cake</td><td>0.55</td><td>donut</td><td>[1001, Regular]</td><td>[5001, None]</td></tr>\n",
       "<tr><td>0001</td><td>Cake</td><td>0.55</td><td>donut</td><td>[1002, Chocolate]</td><td>[5002, Glazed]</td></tr>\n",
       "<tr><td>0001</td><td>Cake</td><td>0.55</td><td>donut</td><td>[1003, Blueberry]</td><td>[5005, Sugar]</td></tr>\n",
       "<tr><td>0001</td><td>Cake</td><td>0.55</td><td>donut</td><td>[1004, Devil&#x27;s Food]</td><td>[5007, Powdered S...</td></tr>\n",
       "<tr><td>0001</td><td>Cake</td><td>0.55</td><td>donut</td><td>null</td><td>[5006, Chocolate ...</td></tr>\n",
       "<tr><td>0001</td><td>Cake</td><td>0.55</td><td>donut</td><td>null</td><td>[5003, Chocolate]</td></tr>\n",
       "<tr><td>0001</td><td>Cake</td><td>0.55</td><td>donut</td><td>null</td><td>[5004, Maple]</td></tr>\n",
       "</table>\n"
      ],
      "text/plain": [
       "+----+----+----+-----+--------------------+--------------------+\n",
       "|  id|name| ppu| type|              batter|             topping|\n",
       "+----+----+----+-----+--------------------+--------------------+\n",
       "|0001|Cake|0.55|donut|     [1001, Regular]|        [5001, None]|\n",
       "|0001|Cake|0.55|donut|   [1002, Chocolate]|      [5002, Glazed]|\n",
       "|0001|Cake|0.55|donut|   [1003, Blueberry]|       [5005, Sugar]|\n",
       "|0001|Cake|0.55|donut|[1004, Devil's Food]|[5007, Powdered S...|\n",
       "|0001|Cake|0.55|donut|                null|[5006, Chocolate ...|\n",
       "|0001|Cake|0.55|donut|                null|   [5003, Chocolate]|\n",
       "|0001|Cake|0.55|donut|                null|       [5004, Maple]|\n",
       "+----+----+----+-----+--------------------+--------------------+"
      ]
     },
     "execution_count": 13,
     "metadata": {},
     "output_type": "execute_result"
    }
   ],
   "source": [
    "df_new.withColumn(\"tmp\", arrays_zip(\"batter\", \"topping\"))\\\n",
    ".withColumn(\"tmp\", explode(\"tmp\"))\\\n",
    ".select(\"id\",\"name\",\"ppu\",\"type\",col(\"tmp.batter\"), col(\"tmp.topping\"))"
   ]
  }
 ],
 "metadata": {
  "kernelspec": {
   "display_name": "Pyspark 2",
   "language": "python",
   "name": "pyspark2"
  },
  "language_info": {
   "codemirror_mode": {
    "name": "ipython",
    "version": 3
   },
   "file_extension": ".py",
   "mimetype": "text/x-python",
   "name": "python",
   "nbconvert_exporter": "python",
   "pygments_lexer": "ipython3",
   "version": "3.6.12"
  }
 },
 "nbformat": 4,
 "nbformat_minor": 5
}
