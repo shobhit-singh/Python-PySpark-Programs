{
 "cells": [
  {
   "cell_type": "code",
   "execution_count": 1,
   "id": "ffd66822",
   "metadata": {},
   "outputs": [],
   "source": [
    "from pyspark.sql import SparkSession\n",
    "\n",
    "spark = SparkSession.builder \\\n",
    ".appName(\"testAzureBlob\") \\\n",
    ".getOrCreate()"
   ]
  },
  {
   "cell_type": "code",
   "execution_count": 2,
   "id": "d5bc445a",
   "metadata": {},
   "outputs": [],
   "source": [
    "df = spark.createDataFrame(\n",
    "    [(1,\"2\",5,1),(3,\"4\",7,8)],\n",
    "    (\"col1\",\"col2\",\"col3\",\"col4\")\n",
    ")"
   ]
  },
  {
   "cell_type": "code",
   "execution_count": 3,
   "id": "13a284b7",
   "metadata": {},
   "outputs": [
    {
     "name": "stdout",
     "output_type": "stream",
     "text": [
      "+----+----+----+----+\n",
      "|col1|col2|col3|col4|\n",
      "+----+----+----+----+\n",
      "|   1|   2|   5|   1|\n",
      "|   3|   4|   7|   8|\n",
      "+----+----+----+----+\n",
      "\n"
     ]
    }
   ],
   "source": [
    "df.show()"
   ]
  },
  {
   "cell_type": "code",
   "execution_count": 4,
   "id": "6499a85b",
   "metadata": {},
   "outputs": [],
   "source": [
    "from pyspark.sql.functions import sha2, concat_ws"
   ]
  },
  {
   "cell_type": "code",
   "execution_count": 5,
   "id": "c9895311",
   "metadata": {},
   "outputs": [
    {
     "name": "stdout",
     "output_type": "stream",
     "text": [
      "+----+----+----+----+--------------+----------------------------------------------------------------+\n",
      "|col1|col2|col3|col4|concat_columns|row_sha2                                                        |\n",
      "+----+----+----+----+--------------+----------------------------------------------------------------+\n",
      "|1   |2   |5   |1   |1||2||5||1    |1b0ae4beb8ce031cf585e9bb79df7d32c3b93c8c73c27d8f2c2ddc2de9c8edcd|\n",
      "|3   |4   |7   |8   |3||4||7||8    |57f057bdc4178b69b1b6ab9d78eabee47133790cba8cf503ac1658fa7a496db1|\n",
      "+----+----+----+----+--------------+----------------------------------------------------------------+\n",
      "\n"
     ]
    }
   ],
   "source": [
    "df\\\n",
    ".withColumn(\"concat_columns\", concat_ws(\"||\", *df.columns))\\\n",
    ".withColumn(\"row_sha2\", sha2(concat_ws(\"||\", *df.columns), 256))\\\n",
    ".show(truncate=False)"
   ]
  },
  {
   "cell_type": "code",
   "execution_count": 6,
   "id": "025b3423",
   "metadata": {},
   "outputs": [
    {
     "name": "stdout",
     "output_type": "stream",
     "text": [
      "col1 col2 col3 col4\n"
     ]
    }
   ],
   "source": [
    "print(*df.columns)"
   ]
  },
  {
   "cell_type": "code",
   "execution_count": 7,
   "id": "bb68bc63",
   "metadata": {},
   "outputs": [
    {
     "name": "stdout",
     "output_type": "stream",
     "text": [
      "['col1', 'col2', 'col3', 'col4']\n"
     ]
    }
   ],
   "source": [
    "print(df.columns)"
   ]
  }
 ],
 "metadata": {
  "kernelspec": {
   "display_name": "Pyspark 2",
   "language": "python",
   "name": "pyspark2"
  },
  "language_info": {
   "codemirror_mode": {
    "name": "ipython",
    "version": 3
   },
   "file_extension": ".py",
   "mimetype": "text/x-python",
   "name": "python",
   "nbconvert_exporter": "python",
   "pygments_lexer": "ipython3",
   "version": "3.6.12"
  }
 },
 "nbformat": 4,
 "nbformat_minor": 5
}
