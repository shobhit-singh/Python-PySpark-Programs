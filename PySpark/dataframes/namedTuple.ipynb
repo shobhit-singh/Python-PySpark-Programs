{
 "cells": [
  {
   "cell_type": "code",
   "execution_count": 1,
   "id": "f456be38",
   "metadata": {},
   "outputs": [
    {
     "name": "stdout",
     "output_type": "stream",
     "text": [
      "+-----------+-------------+---------------+-----------------+--------------+\n",
      "|customer_id|customer_name|  customer_addr|   customer_email|customer_phone|\n",
      "+-----------+-------------+---------------+-----------------+--------------+\n",
      "|          1|        James|    639 Main St|james@comapny.com|  504-845-1427|\n",
      "|          2|         John|    #45 Main St| john@comapny.com|  804-895-1427|\n",
      "|          3|          Sam|   34 Center St|  sam@comapny.com|  704-895-1427|\n",
      "|          4|        Jorah|322 New Horizon|jorah@comapny.com|  604-895-1427|\n",
      "+-----------+-------------+---------------+-----------------+--------------+\n",
      "\n"
     ]
    }
   ],
   "source": [
    "from pyspark.sql import SparkSession\n",
    "from collections import namedtuple\n",
    "\n",
    "spark = SparkSession.builder \\\n",
    ".appName(\"testApp\") \\\n",
    ".getOrCreate()\n",
    "\n",
    "cust = namedtuple(\"customer\",\n",
    "                  [\"customer_id\", \"customer_name\", \"customer_addr\",\"customer_email\",\"customer_phone\"]\n",
    "                 )\n",
    "\n",
    "data = [cust(1,\"James\",\"639 Main St\",\"james@comapny.com\",\"504-845-1427\"),\n",
    "        cust(2,\"John\",\"#45 Main St\",\"john@comapny.com\",\"804-895-1427\"),\n",
    "        cust(3,\"Sam\",\"34 Center St\",\"sam@comapny.com\",\"704-895-1427\"),\n",
    "        cust(4,\"Jorah\",\"322 New Horizon\",\"jorah@comapny.com\",\"604-895-1427\")\n",
    "       ]\n",
    "\n",
    "df = spark.createDataFrame(data)\n",
    "df.show()"
   ]
  }
 ],
 "metadata": {
  "kernelspec": {
   "display_name": "Pyspark 2",
   "language": "python",
   "name": "pyspark2"
  },
  "language_info": {
   "codemirror_mode": {
    "name": "ipython",
    "version": 3
   },
   "file_extension": ".py",
   "mimetype": "text/x-python",
   "name": "python",
   "nbconvert_exporter": "python",
   "pygments_lexer": "ipython3",
   "version": "3.6.12"
  }
 },
 "nbformat": 4,
 "nbformat_minor": 5
}
