{
 "cells": [
  {
   "cell_type": "markdown",
   "metadata": {},
   "source": [
    "# Python Tuple \n",
    "---\n",
    "\n",
    "A tuple is a collection which is ordered and unchangeable. It is similar to list, but a tuple is immutable unlike lists which are mutable.\n",
    "\n",
    "It is created by placing items inside a parentheses(), separated by comma. Parentheses is optional."
   ]
  },
  {
   "cell_type": "code",
   "execution_count": 1,
   "metadata": {},
   "outputs": [
    {
     "name": "stdout",
     "output_type": "stream",
     "text": [
      "<class 'tuple'>\n",
      "('N', 'S', 'E', 'W')\n",
      "('North', 'South', 'East', 'West')\n"
     ]
    }
   ],
   "source": [
    "# Creating Tuple\n",
    "\n",
    "empty_tuple = ()\n",
    "my_tup1  = 'N','S','E','W'\n",
    "my_tup2  =  ('North','South','East','West')\n",
    "\n",
    "print(type(empty_tuple))\n",
    "print(my_tup1)\n",
    "print(my_tup2)"
   ]
  },
  {
   "cell_type": "markdown",
   "metadata": {},
   "source": [
    "Other way to create tuple by using the tuple() constructor. See below example."
   ]
  },
  {
   "cell_type": "code",
   "execution_count": 2,
   "metadata": {},
   "outputs": [
    {
     "name": "stdout",
     "output_type": "stream",
     "text": [
      "(1, 'South', 5.5, ('A', 'B', 'C'), [0, 1, 2])\n",
      "<class 'tuple'>\n"
     ]
    }
   ],
   "source": [
    "my_tup3  =  tuple((1,'South',5.5,('A','B','C'),[0,1,2]))\n",
    "\n",
    "print(my_tup3)\n",
    "print(type(my_tup3))"
   ]
  },
  {
   "cell_type": "code",
   "execution_count": 3,
   "metadata": {},
   "outputs": [
    {
     "name": "stdout",
     "output_type": "stream",
     "text": [
      "<class 'int'>\n"
     ]
    }
   ],
   "source": [
    "# Creating a tuple having single value \n",
    "\n",
    "my_tup4  = (4)\n",
    "print(type(my_tup4)) # But the result is showing int, i.e. this is not a tuple"
   ]
  },
  {
   "cell_type": "markdown",
   "metadata": {},
   "source": [
    "> To create a tuple having single value, Just include comma at last."
   ]
  },
  {
   "cell_type": "code",
   "execution_count": 4,
   "metadata": {},
   "outputs": [
    {
     "name": "stdout",
     "output_type": "stream",
     "text": [
      "<class 'tuple'>\n"
     ]
    }
   ],
   "source": [
    "my_tup4  = (4,)\n",
    "print(type(my_tup4)) # Now its a tuple"
   ]
  },
  {
   "cell_type": "markdown",
   "metadata": {},
   "source": [
    "### Some Built-in Python Functions"
   ]
  },
  {
   "cell_type": "code",
   "execution_count": 5,
   "metadata": {},
   "outputs": [
    {
     "name": "stdout",
     "output_type": "stream",
     "text": [
      "<class 'tuple'>\n",
      "4\n",
      "4\n",
      "1\n"
     ]
    }
   ],
   "source": [
    "my_tup5 = 1,2.5,3,4\n",
    "\n",
    "print(type(my_tup5)) # Type\n",
    "print(len(my_tup5)) # len Function - Gives the total length of the tuple.\n",
    "print(max(my_tup5)) # max Function - Returns element from the tuple with maximum value.\n",
    "print(min(my_tup5)) # min Function - Returns element from the tuple with minimum value."
   ]
  },
  {
   "cell_type": "markdown",
   "metadata": {},
   "source": [
    "### Accessing Tuple Values -  Indexing & Slicing\n",
    "---\n",
    "\n",
    "Use the index operator [] to access an item in a tuple. We can use a : to perform slicing which extracts chunk of more than one element as per input. In slicing last index is not included."
   ]
  },
  {
   "cell_type": "code",
   "execution_count": 6,
   "metadata": {},
   "outputs": [],
   "source": [
    "sides = 'East','West','North','South'"
   ]
  },
  {
   "cell_type": "code",
   "execution_count": 7,
   "metadata": {},
   "outputs": [
    {
     "name": "stdout",
     "output_type": "stream",
     "text": [
      "East\n"
     ]
    }
   ],
   "source": [
    "# Fetch the first element of list sides\n",
    "\n",
    "print(sides[0])"
   ]
  },
  {
   "cell_type": "code",
   "execution_count": 8,
   "metadata": {},
   "outputs": [
    {
     "name": "stdout",
     "output_type": "stream",
     "text": [
      "South\n"
     ]
    }
   ],
   "source": [
    "# Fetch the last element of list sides\n",
    "\n",
    "print(sides[-1])"
   ]
  },
  {
   "cell_type": "code",
   "execution_count": 9,
   "metadata": {},
   "outputs": [
    {
     "name": "stdout",
     "output_type": "stream",
     "text": [
      "('West', 'North', 'South')\n"
     ]
    }
   ],
   "source": [
    "# fetch elements start from index 1st till last\n",
    "\n",
    "print(sides[1:])"
   ]
  },
  {
   "cell_type": "code",
   "execution_count": 10,
   "metadata": {},
   "outputs": [
    {
     "name": "stdout",
     "output_type": "stream",
     "text": [
      "('East', 'West')\n"
     ]
    }
   ],
   "source": [
    "# fetch elements upto 2nd index, but 2nd is not included\n",
    "\n",
    "print(sides [:2])"
   ]
  },
  {
   "cell_type": "code",
   "execution_count": 11,
   "metadata": {},
   "outputs": [
    {
     "name": "stdout",
     "output_type": "stream",
     "text": [
      "('West', 'North')\n"
     ]
    }
   ],
   "source": [
    "# fetch element from 1st index to 3rd index\n",
    "\n",
    "print(sides [1:3])"
   ]
  },
  {
   "cell_type": "code",
   "execution_count": 12,
   "metadata": {},
   "outputs": [
    {
     "name": "stdout",
     "output_type": "stream",
     "text": [
      "A\n",
      "C\n"
     ]
    }
   ],
   "source": [
    "# fetching values in case of nested tuple\n",
    "\n",
    "my_tup  =  tuple((1,'South',5.5,('A','B','C'),[0,1,2]))\n",
    "\n",
    "print(my_tup[3][0])\n",
    "print(my_tup[3][2])"
   ]
  },
  {
   "cell_type": "markdown",
   "metadata": {},
   "source": [
    "### Updating Tuples\n",
    "---\n",
    "\n",
    "Python Tuple is immutable i.e. the elements inside a tuple cannot be changed!"
   ]
  },
  {
   "cell_type": "code",
   "execution_count": 14,
   "metadata": {},
   "outputs": [
    {
     "ename": "TypeError",
     "evalue": "'tuple' object does not support item assignment",
     "output_type": "error",
     "traceback": [
      "\u001b[1;31m---------------------------------------------------------------------------\u001b[0m",
      "\u001b[1;31mTypeError\u001b[0m                                 Traceback (most recent call last)",
      "\u001b[1;32m<ipython-input-14-b1dd30231e62>\u001b[0m in \u001b[0;36m<module>\u001b[1;34m()\u001b[0m\n\u001b[0;32m      3\u001b[0m \u001b[1;31m# Let's try to change the elements of lists sides\u001b[0m\u001b[1;33m\u001b[0m\u001b[1;33m\u001b[0m\u001b[0m\n\u001b[0;32m      4\u001b[0m \u001b[1;33m\u001b[0m\u001b[0m\n\u001b[1;32m----> 5\u001b[1;33m \u001b[0msides\u001b[0m\u001b[1;33m[\u001b[0m\u001b[1;36m0\u001b[0m\u001b[1;33m]\u001b[0m\u001b[1;33m=\u001b[0m \u001b[1;36m1\u001b[0m\u001b[1;33m\u001b[0m\u001b[0m\n\u001b[0m",
      "\u001b[1;31mTypeError\u001b[0m: 'tuple' object does not support item assignment"
     ]
    }
   ],
   "source": [
    "sides = ('East','West','North','South')\n",
    "\n",
    "# Let's try to change the elements of lists sides\n",
    "\n",
    "sides[0]= 1"
   ]
  },
  {
   "cell_type": "markdown",
   "metadata": {},
   "source": [
    "### Deleting Tuples\n",
    "---\n",
    "\n",
    "Individual element in tuple cannot be removed. Entire tuple can be removed by using `del` statement."
   ]
  },
  {
   "cell_type": "code",
   "execution_count": 15,
   "metadata": {},
   "outputs": [],
   "source": [
    "# Removing tuple completely\n",
    "\n",
    "del sides "
   ]
  },
  {
   "cell_type": "code",
   "execution_count": 16,
   "metadata": {},
   "outputs": [
    {
     "ename": "NameError",
     "evalue": "name 'sides' is not defined",
     "output_type": "error",
     "traceback": [
      "\u001b[1;31m---------------------------------------------------------------------------\u001b[0m",
      "\u001b[1;31mNameError\u001b[0m                                 Traceback (most recent call last)",
      "\u001b[1;32m<ipython-input-16-7623a01b7793>\u001b[0m in \u001b[0;36m<module>\u001b[1;34m()\u001b[0m\n\u001b[1;32m----> 1\u001b[1;33m \u001b[0msides\u001b[0m \u001b[1;31m# This will raise exception, as sides tuple removed\u001b[0m\u001b[1;33m\u001b[0m\u001b[0m\n\u001b[0m",
      "\u001b[1;31mNameError\u001b[0m: name 'sides' is not defined"
     ]
    }
   ],
   "source": [
    "sides # This will raise exception, as sides tuple removed"
   ]
  },
  {
   "cell_type": "markdown",
   "metadata": {},
   "source": [
    "### Concatenation & Repetition  of Tuples\n",
    "---"
   ]
  },
  {
   "cell_type": "code",
   "execution_count": 17,
   "metadata": {},
   "outputs": [
    {
     "name": "stdout",
     "output_type": "stream",
     "text": [
      "('East', 'West', 'North', 'South')\n",
      "('North-East', 'North-East', 'South-East', 'South-West')\n"
     ]
    }
   ],
   "source": [
    "sides = ('East','West','North','South')\n",
    "modesides = ('North-East','North-East','South-East','South-West')\n",
    "\n",
    "print(sides)\n",
    "print(modesides)"
   ]
  },
  {
   "cell_type": "code",
   "execution_count": 18,
   "metadata": {},
   "outputs": [
    {
     "name": "stdout",
     "output_type": "stream",
     "text": [
      "('East', 'West', 'North', 'South', 'North-East', 'North-East', 'South-East', 'South-West')\n"
     ]
    }
   ],
   "source": [
    "# Concatenation\n",
    "\n",
    "sides = sides + modesides\n",
    "print(sides)"
   ]
  },
  {
   "cell_type": "code",
   "execution_count": 19,
   "metadata": {},
   "outputs": [
    {
     "name": "stdout",
     "output_type": "stream",
     "text": [
      "('East', 'West', 'North', 'South', 'North-East', 'North-East', 'South-East', 'South-West', 'East', 'West', 'North', 'South', 'North-East', 'North-East', 'South-East', 'South-West')\n"
     ]
    }
   ],
   "source": [
    "# Repetition\n",
    "\n",
    "sides = sides * 2\n",
    "print(sides)"
   ]
  },
  {
   "cell_type": "markdown",
   "metadata": {},
   "source": [
    "### Tuple Method\n",
    "---\n",
    "\n",
    "Python includes following tuple methods."
   ]
  },
  {
   "cell_type": "markdown",
   "metadata": {},
   "source": [
    "#### Index() :\n",
    "\n",
    "Returns the index of the first matched item."
   ]
  },
  {
   "cell_type": "code",
   "execution_count": 20,
   "metadata": {},
   "outputs": [
    {
     "name": "stdout",
     "output_type": "stream",
     "text": [
      "3\n",
      "1\n"
     ]
    }
   ],
   "source": [
    "sides = 'EAST','West','North','East','South','East'\n",
    "\n",
    "print(sides.index('East'))\n",
    "print(sides.index('West'))"
   ]
  },
  {
   "cell_type": "markdown",
   "metadata": {},
   "source": [
    "#### Count():\n",
    "\n",
    "Returns the count of number of items passed as an argument."
   ]
  },
  {
   "cell_type": "code",
   "execution_count": 21,
   "metadata": {},
   "outputs": [
    {
     "name": "stdout",
     "output_type": "stream",
     "text": [
      "2\n"
     ]
    }
   ],
   "source": [
    "print(sides.count('East'))"
   ]
  },
  {
   "cell_type": "markdown",
   "metadata": {},
   "source": [
    "---\n",
    "\n",
    "Thanks!\n",
    "\n",
    "Happy Learning! Your feedback would be appreciated! \n",
    "\n",
    "[shobhitsingh.in](http://shobhitsingh.in)"
   ]
  }
 ],
 "metadata": {
  "kernelspec": {
   "display_name": "Python 3",
   "language": "python",
   "name": "python3"
  },
  "language_info": {
   "codemirror_mode": {
    "name": "ipython",
    "version": 3
   },
   "file_extension": ".py",
   "mimetype": "text/x-python",
   "name": "python",
   "nbconvert_exporter": "python",
   "pygments_lexer": "ipython3",
   "version": "3.7.7"
  }
 },
 "nbformat": 4,
 "nbformat_minor": 2
}
