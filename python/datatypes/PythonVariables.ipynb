{
 "cells": [
  {
   "cell_type": "markdown",
   "metadata": {},
   "source": [
    "## Python Variables\n",
    "---\n",
    "In other programming languages like C,C++, Java, PL/SQL - we have to declare the variable with its type in advance see below some examples.\n",
    "\n",
    "```c\n",
    "int x, y;  // C variable declaration<br>\n",
    "float interest;   // C variable declaration<br>\n",
    "person_id number(10); -- PL/SQL variable declaration<br>\n",
    "person_name varchar2(25); -- PL/SQL variable declaration<br>\n",
    "```\n",
    "\n",
    "In Python there is no advance declaration, so type of variable is not fixed. A variable is created when we assign value to it. It does not required any explicit declaration. Use the assignment operator = to assign the value to a variable."
   ]
  },
  {
   "cell_type": "markdown",
   "metadata": {},
   "source": [
    "Variable-Name = Value<br>\n",
    "Variables basically inherit type from current value. Type determine what operations are allowed.\n",
    "\n",
    "```python\n",
    "x = 1\n",
    "interest = 1000.25\n",
    "x = 'Python'\n",
    "```\n",
    "\n",
    "+ We have assigned value 1 to variable x. Variable x is created\n",
    "+ Now variable x has its type i.e. Int. Variables basically inherit type from current value.\n",
    "+ Later string 'Python' is assigned to x, so now x has its type i.e. string (this is dynamic typing)"
   ]
  },
  {
   "cell_type": "markdown",
   "metadata": {},
   "source": [
    "\n",
    "### Identifier Names Rules\n",
    "Name given to variables, functions, class, methods etc. in Python. \n",
    "\n",
    "+ Must start with a letter or the underscore character. Cannot start with a number.\n",
    "+ Can only contain alpha-numeric characters and underscores (A-z, 0-9, & _ ).\n",
    "+ Variable names are case-sensitive.\n",
    "+ Avoid using Python Built-keywords. Like str, type, list etc."
   ]
  },
  {
   "cell_type": "code",
   "execution_count": 1,
   "metadata": {},
   "outputs": [
    {
     "name": "stdout",
     "output_type": "stream",
     "text": [
      "['False', 'None', 'True', 'and', 'as', 'assert', 'async', 'await', 'break', 'class', 'continue', 'def', 'del', 'elif', 'else', 'except', 'finally', 'for', 'from', 'global', 'if', 'import', 'in', 'is', 'lambda', 'nonlocal', 'not', 'or', 'pass', 'raise', 'return', 'try', 'while', 'with', 'yield']\n"
     ]
    }
   ],
   "source": [
    "# Avoid using these keywords in as variable name, function or methods\n",
    "import keyword\n",
    "print(keyword.kwlist)"
   ]
  },
  {
   "cell_type": "code",
   "execution_count": 2,
   "metadata": {},
   "outputs": [],
   "source": [
    "# Some Identifier examples\n",
    "\n",
    "v_name = 'Python'\n",
    "v_id = 101\n",
    "\n",
    "def get_cust_details(id):\n",
    "    pass"
   ]
  },
  {
   "cell_type": "markdown",
   "metadata": {},
   "source": [
    "Using Python's built-in function `type()` you can check what type of object is assigned to a variable.\n",
    "\n",
    "Here are the list of Python data type:\n",
    "\n",
    "+ int\n",
    "+ float\n",
    "+ complex\n",
    "+ bool\n",
    "+ str\n",
    "+ list\n",
    "+ tuple\n",
    "+ dict\n",
    "+ set\n",
    "+ None"
   ]
  },
  {
   "cell_type": "markdown",
   "metadata": {},
   "source": [
    "![Image](https://raw.githubusercontent.com/shobhit-singh/Python-Learning-Journey/master/images/python-datatypes.png \"Python Datatype\")"
   ]
  },
  {
   "cell_type": "code",
   "execution_count": 3,
   "metadata": {},
   "outputs": [],
   "source": [
    "#Example: Variable declaration python\n",
    "\n",
    "name = \"John\"   # String Variable Assignment\n",
    "age = 50        # Integer Variable Assignment \n",
    "height = 150.50 # Float Variable Assignment\n",
    "name = 54321   # Dynamic typing"
   ]
  },
  {
   "cell_type": "code",
   "execution_count": 4,
   "metadata": {},
   "outputs": [
    {
     "name": "stdout",
     "output_type": "stream",
     "text": [
      "<class 'int'>\n",
      "<class 'int'>\n",
      "<class 'float'>\n",
      "<class 'int'>\n"
     ]
    }
   ],
   "source": [
    "# Exapmple - Printing Type\n",
    "\n",
    "print(type(name))\n",
    "print(type(age))\n",
    "print(type(height))\n",
    "print(type(name))"
   ]
  },
  {
   "cell_type": "code",
   "execution_count": 5,
   "metadata": {},
   "outputs": [
    {
     "name": "stdout",
     "output_type": "stream",
     "text": [
      "<class 'list'>\n",
      "<class 'dict'>\n",
      "<class 'tuple'>\n",
      "<class 'set'>\n",
      "<class 'bool'>\n",
      "<class 'NoneType'>\n"
     ]
    }
   ],
   "source": [
    "my_list = []\n",
    "my_dict = {}\n",
    "my_tuple = ()\n",
    "my_set = set()\n",
    "x = True\n",
    "y = None # just a placeholder\n",
    "\n",
    "print(type(my_list))\n",
    "print(type(my_dict))\n",
    "print(type(my_tuple))\n",
    "print(type(my_set))\n",
    "print(type(x))\n",
    "print(type(y))"
   ]
  },
  {
   "cell_type": "markdown",
   "metadata": {},
   "source": [
    "## Dynamic Typing\n",
    "---\n",
    "\n",
    "In Python you can reassign variables to different data types. Python is very flexible in assigning data types."
   ]
  },
  {
   "cell_type": "code",
   "execution_count": 6,
   "metadata": {},
   "outputs": [],
   "source": [
    "# Example, Here Integer Assignment\n",
    "\n",
    "x=50 "
   ]
  },
  {
   "cell_type": "code",
   "execution_count": 7,
   "metadata": {},
   "outputs": [
    {
     "data": {
      "text/plain": [
       "int"
      ]
     },
     "execution_count": 7,
     "metadata": {},
     "output_type": "execute_result"
    }
   ],
   "source": [
    "type(x) "
   ]
  },
  {
   "cell_type": "code",
   "execution_count": 8,
   "metadata": {},
   "outputs": [],
   "source": [
    "x=\"Hello, World!\" #  Re-assigned X Now String Assignment"
   ]
  },
  {
   "cell_type": "code",
   "execution_count": 9,
   "metadata": {},
   "outputs": [
    {
     "data": {
      "text/plain": [
       "str"
      ]
     },
     "execution_count": 9,
     "metadata": {},
     "output_type": "execute_result"
    }
   ],
   "source": [
    "type(x)"
   ]
  },
  {
   "cell_type": "code",
   "execution_count": 10,
   "metadata": {},
   "outputs": [],
   "source": [
    "x=12.20+4j # Re-assigned X Now String Assignment"
   ]
  },
  {
   "cell_type": "code",
   "execution_count": 11,
   "metadata": {},
   "outputs": [
    {
     "data": {
      "text/plain": [
       "complex"
      ]
     },
     "execution_count": 11,
     "metadata": {},
     "output_type": "execute_result"
    }
   ],
   "source": [
    "type(x)"
   ]
  },
  {
   "cell_type": "code",
   "execution_count": 12,
   "metadata": {},
   "outputs": [],
   "source": [
    "x=(1,2,3,4,5) # Re-assigned X Now Tuple Assignment"
   ]
  },
  {
   "cell_type": "code",
   "execution_count": 13,
   "metadata": {},
   "outputs": [
    {
     "data": {
      "text/plain": [
       "tuple"
      ]
     },
     "execution_count": 13,
     "metadata": {},
     "output_type": "execute_result"
    }
   ],
   "source": [
    "type(x)"
   ]
  },
  {
   "cell_type": "markdown",
   "metadata": {},
   "source": [
    "## Reassigning Variables \n",
    "---\n",
    "\n",
    "Python allow you to reassign variables with a reference to the same object."
   ]
  },
  {
   "cell_type": "code",
   "execution_count": 14,
   "metadata": {},
   "outputs": [
    {
     "name": "stdout",
     "output_type": "stream",
     "text": [
      "50\n"
     ]
    }
   ],
   "source": [
    "a=50\n",
    "print(a)"
   ]
  },
  {
   "cell_type": "code",
   "execution_count": 15,
   "metadata": {},
   "outputs": [
    {
     "name": "stdout",
     "output_type": "stream",
     "text": [
      "100\n"
     ]
    }
   ],
   "source": [
    "a = a + a\n",
    "print(a)"
   ]
  },
  {
   "cell_type": "code",
   "execution_count": 16,
   "metadata": {},
   "outputs": [
    {
     "name": "stdout",
     "output_type": "stream",
     "text": [
      "150\n"
     ]
    }
   ],
   "source": [
    "a += 50\n",
    "print(a)"
   ]
  },
  {
   "cell_type": "code",
   "execution_count": 17,
   "metadata": {},
   "outputs": [
    {
     "name": "stdout",
     "output_type": "stream",
     "text": [
      "140\n"
     ]
    }
   ],
   "source": [
    "a -= 10\n",
    "print(a)"
   ]
  },
  {
   "cell_type": "code",
   "execution_count": 18,
   "metadata": {},
   "outputs": [
    {
     "name": "stdout",
     "output_type": "stream",
     "text": [
      "280\n"
     ]
    }
   ],
   "source": [
    "a *= 2\n",
    "print(a)"
   ]
  },
  {
   "cell_type": "code",
   "execution_count": 19,
   "metadata": {},
   "outputs": [
    {
     "name": "stdout",
     "output_type": "stream",
     "text": [
      "56.0\n"
     ]
    }
   ],
   "source": [
    "a /= 5\n",
    "print(a)"
   ]
  },
  {
   "cell_type": "markdown",
   "metadata": {},
   "source": [
    "# Multiple Assignment\n",
    "---\n",
    "\n",
    "Python allows you to assign a value to multiple variables simultaneously."
   ]
  },
  {
   "cell_type": "code",
   "execution_count": 20,
   "metadata": {},
   "outputs": [],
   "source": [
    "# Example 1\n",
    "length = width = height = 50"
   ]
  },
  {
   "cell_type": "code",
   "execution_count": 21,
   "metadata": {},
   "outputs": [
    {
     "name": "stdout",
     "output_type": "stream",
     "text": [
      "50\n",
      "50\n",
      "50\n"
     ]
    }
   ],
   "source": [
    "print (length)\n",
    "print (width)\n",
    "print (height)"
   ]
  },
  {
   "cell_type": "code",
   "execution_count": 22,
   "metadata": {},
   "outputs": [],
   "source": [
    "# Example 2\n",
    "length,  width, height = (10,50,60)"
   ]
  },
  {
   "cell_type": "code",
   "execution_count": 23,
   "metadata": {},
   "outputs": [
    {
     "name": "stdout",
     "output_type": "stream",
     "text": [
      "10\n",
      "50\n",
      "60\n"
     ]
    }
   ],
   "source": [
    "print (length)\n",
    "print (width)\n",
    "print (height)"
   ]
  },
  {
   "cell_type": "markdown",
   "metadata": {},
   "source": [
    "---\n",
    "\n",
    "Thanks!\n",
    "\n",
    "Happy Learning! Your feedback would be appreciated!\n",
    "\n",
    "[shobhitsingh.in](https://www.shobhitsingh.in/)\n"
   ]
  }
 ],
 "metadata": {
  "kernelspec": {
   "display_name": "Python 3",
   "language": "python",
   "name": "python3"
  },
  "language_info": {
   "codemirror_mode": {
    "name": "ipython",
    "version": 3
   },
   "file_extension": ".py",
   "mimetype": "text/x-python",
   "name": "python",
   "nbconvert_exporter": "python",
   "pygments_lexer": "ipython3",
   "version": "3.7.7"
  }
 },
 "nbformat": 4,
 "nbformat_minor": 2
}
