{
 "cells": [
  {
   "cell_type": "markdown",
   "metadata": {},
   "source": [
    "# Python Lists\n",
    "---\n",
    "\n",
    "+ A list in Python is an mutable sequence of items. Items in a list need not be of the same type. \n",
    "+ A list is created by placing all the items inside a square bracket, separated by commas. eg. `[1,2,3]`\n",
    "+ Also a list is created by using the constructor `list()`\n",
    "+ List can contain other list also i.e. nested list. eg. `[[1,2,3],[4,5,6]]`\n",
    "\n"
   ]
  },
  {
   "cell_type": "code",
   "execution_count": 1,
   "metadata": {},
   "outputs": [],
   "source": [
    "# Lists examples\n",
    "my_empty_list = []\n",
    "number_list = [1,2,3,4,5]\n",
    "str_list = ['A','B','C','D']\n",
    "mix_list = ['A',1,'B',2,'C',12.5,5+500j]\n",
    "nested_list = [[1,2,3],[4,5,6]]"
   ]
  },
  {
   "cell_type": "code",
   "execution_count": 2,
   "metadata": {},
   "outputs": [
    {
     "name": "stdout",
     "output_type": "stream",
     "text": [
      "[1, 2, 3, 4, 5]\n",
      "['A', 'B', 'C', 'D']\n",
      "['A', 1, 'B', 2, 'C', 12.5, (5+500j)]\n",
      "[[1, 2, 3], [4, 5, 6]]\n"
     ]
    }
   ],
   "source": [
    "print(number_list)\n",
    "print(str_list)\n",
    "print(mix_list)\n",
    "print(nested_list)"
   ]
  },
  {
   "cell_type": "markdown",
   "metadata": {},
   "source": [
    "#### Some Built-in Python Functions"
   ]
  },
  {
   "cell_type": "code",
   "execution_count": 3,
   "metadata": {},
   "outputs": [
    {
     "name": "stdout",
     "output_type": "stream",
     "text": [
      "6\n",
      "6\n",
      "1\n"
     ]
    }
   ],
   "source": [
    "list1 = [1,2.5,3,4.6,5,6]\n",
    "print(len(list1)) # len Function - Gives the total length of the list.\n",
    "print(max(list1)) # max Function - Returns element from the list with maximum value.\n",
    "print(min(list1)) # min Function - Returns element from the list with minimum value."
   ]
  },
  {
   "cell_type": "markdown",
   "metadata": {},
   "source": [
    "#### List Assignment\n",
    "Creating new list from another list using assignment operator"
   ]
  },
  {
   "cell_type": "code",
   "execution_count": 4,
   "metadata": {},
   "outputs": [],
   "source": [
    "my_list1 = [1,2,3,4]"
   ]
  },
  {
   "cell_type": "code",
   "execution_count": 5,
   "metadata": {},
   "outputs": [],
   "source": [
    "my_list2 = my_list1 # created a new list my_list2 using my_list1"
   ]
  },
  {
   "cell_type": "code",
   "execution_count": 6,
   "metadata": {},
   "outputs": [],
   "source": [
    "my_list1[1]='A' # done some changes in my_list1 "
   ]
  },
  {
   "cell_type": "code",
   "execution_count": 7,
   "metadata": {},
   "outputs": [
    {
     "name": "stdout",
     "output_type": "stream",
     "text": [
      "[1, 'A', 3, 4]\n",
      "[1, 'A', 3, 4]\n"
     ]
    }
   ],
   "source": [
    "print(my_list1)\n",
    "print(my_list2)"
   ]
  },
  {
   "cell_type": "markdown",
   "metadata": {},
   "source": [
    "If you notice above that my_list2 also got changed, as the assignment operator create a just pointer to original list. Its not a fresh copy of list. See below both are pointing to same memory location. Thats the case with all mutable datatypes. In case of mutable datatype - a new fresh copy of item got created."
   ]
  },
  {
   "cell_type": "code",
   "execution_count": 8,
   "metadata": {},
   "outputs": [
    {
     "data": {
      "text/plain": [
       "True"
      ]
     },
     "execution_count": 8,
     "metadata": {},
     "output_type": "execute_result"
    }
   ],
   "source": [
    "my_list1 is my_list2"
   ]
  },
  {
   "cell_type": "code",
   "execution_count": 9,
   "metadata": {},
   "outputs": [
    {
     "name": "stdout",
     "output_type": "stream",
     "text": [
      "0x14797b6ae08\n",
      "0x14797b6ae08\n"
     ]
    }
   ],
   "source": [
    "# lets see the address of the object in memory.\n",
    "print(hex(id(my_list1)))\n",
    "print(hex(id(my_list2)))"
   ]
  },
  {
   "cell_type": "markdown",
   "metadata": {},
   "source": [
    "So both address are the same, hence both list pointing to same memory address. How we can create the fresh seperate copy?"
   ]
  },
  {
   "cell_type": "code",
   "execution_count": 10,
   "metadata": {},
   "outputs": [
    {
     "name": "stdout",
     "output_type": "stream",
     "text": [
      "0x14797b6ae08\n",
      "0x14797ad1988\n"
     ]
    }
   ],
   "source": [
    "# creating a fresh copy of list using slice\n",
    "my_list2 = my_list1[:]\n",
    "\n",
    "print(hex(id(my_list1)))\n",
    "print(hex(id(my_list2)))"
   ]
  },
  {
   "cell_type": "code",
   "execution_count": 11,
   "metadata": {},
   "outputs": [
    {
     "name": "stdout",
     "output_type": "stream",
     "text": [
      "v3\n",
      "Python\n",
      "0x14797c7e4f0\n",
      "0x147936485b0\n"
     ]
    }
   ],
   "source": [
    "# In case of mutable datatypes - Python automatically take care of creating a fresh copy if any change happen.\n",
    "x = 'Python'\n",
    "y = x\n",
    "x = 'v3'\n",
    "print(x)\n",
    "print(y)\n",
    "print(hex(id(x)))\n",
    "print(hex(id(y)))"
   ]
  },
  {
   "cell_type": "markdown",
   "metadata": {},
   "source": [
    "#### List Concatenation\n",
    "Always return fresh list (physicaly diffrent object) like slicing."
   ]
  },
  {
   "cell_type": "code",
   "execution_count": 12,
   "metadata": {},
   "outputs": [],
   "source": [
    "my_list1 = [1,2,3,4]"
   ]
  },
  {
   "cell_type": "code",
   "execution_count": 13,
   "metadata": {},
   "outputs": [],
   "source": [
    "my_list2 = my_list1"
   ]
  },
  {
   "cell_type": "code",
   "execution_count": 14,
   "metadata": {},
   "outputs": [
    {
     "name": "stdout",
     "output_type": "stream",
     "text": [
      "0x14797b5f688\n",
      "0x14797b63788\n"
     ]
    }
   ],
   "source": [
    "my_list1 = my_list1 + [5,6,7,8]\n",
    "print(hex(id(my_list1)))\n",
    "print(hex(id(my_list2)))"
   ]
  },
  {
   "cell_type": "markdown",
   "metadata": {},
   "source": [
    "### List Indexing & Slicing\n",
    "---\n",
    "\n",
    "Use the index operator [] to access an item in a list. We can use a : to perform slicing which extracts chunk of more than one element as per input. In slicing last index is not included."
   ]
  },
  {
   "cell_type": "code",
   "execution_count": 15,
   "metadata": {},
   "outputs": [],
   "source": [
    "sides = ['East','West','North','South']"
   ]
  },
  {
   "cell_type": "code",
   "execution_count": 16,
   "metadata": {},
   "outputs": [
    {
     "data": {
      "text/plain": [
       "'East'"
      ]
     },
     "execution_count": 16,
     "metadata": {},
     "output_type": "execute_result"
    }
   ],
   "source": [
    "# Fetch the first element of list sides\n",
    "\n",
    "sides[0] "
   ]
  },
  {
   "cell_type": "code",
   "execution_count": 17,
   "metadata": {},
   "outputs": [
    {
     "data": {
      "text/plain": [
       "'South'"
      ]
     },
     "execution_count": 17,
     "metadata": {},
     "output_type": "execute_result"
    }
   ],
   "source": [
    "# Fetch the last element of list sides\n",
    "\n",
    "sides[-1] "
   ]
  },
  {
   "cell_type": "code",
   "execution_count": 18,
   "metadata": {},
   "outputs": [
    {
     "data": {
      "text/plain": [
       "['West', 'North', 'South']"
      ]
     },
     "execution_count": 18,
     "metadata": {},
     "output_type": "execute_result"
    }
   ],
   "source": [
    "# fetch elements start from index 1st till last\n",
    "\n",
    "sides[1:] "
   ]
  },
  {
   "cell_type": "code",
   "execution_count": 19,
   "metadata": {},
   "outputs": [
    {
     "data": {
      "text/plain": [
       "['East', 'West']"
      ]
     },
     "execution_count": 19,
     "metadata": {},
     "output_type": "execute_result"
    }
   ],
   "source": [
    "# fetch elements upto 2nd index, but 2nd is not included\n",
    "\n",
    "sides [:2]"
   ]
  },
  {
   "cell_type": "code",
   "execution_count": 20,
   "metadata": {},
   "outputs": [
    {
     "data": {
      "text/plain": [
       "['West', 'North']"
      ]
     },
     "execution_count": 20,
     "metadata": {},
     "output_type": "execute_result"
    }
   ],
   "source": [
    "# fetch element from 1st index to 3rd index\n",
    "\n",
    "sides [1:3] "
   ]
  },
  {
   "cell_type": "markdown",
   "metadata": {},
   "source": [
    "> Unlike Python Strings, Python Lists are mutable i.e. the elements inside a list can be changed!"
   ]
  },
  {
   "cell_type": "markdown",
   "metadata": {},
   "source": [
    "#### Updating List"
   ]
  },
  {
   "cell_type": "code",
   "execution_count": 21,
   "metadata": {},
   "outputs": [
    {
     "name": "stdout",
     "output_type": "stream",
     "text": [
      "['East', 'West', 'North', 'South']\n",
      "[3.0, 'Hello World', 'Python World', 12345]\n"
     ]
    }
   ],
   "source": [
    "sides = ['East','West','North','South']\n",
    "print(sides)\n",
    "\n",
    "# Let's try to change the elements of lists sides\n",
    "\n",
    "sides[0]= 3.0\n",
    "sides[1]='Hello World'\n",
    "sides[2]='Python World'\n",
    "sides[3]= 12345\n",
    "\n",
    "print(sides)"
   ]
  },
  {
   "cell_type": "markdown",
   "metadata": {},
   "source": [
    "#### Nested Lists\n",
    "\n",
    "A list inside a list."
   ]
  },
  {
   "cell_type": "code",
   "execution_count": 22,
   "metadata": {},
   "outputs": [
    {
     "name": "stdout",
     "output_type": "stream",
     "text": [
      "[['East', 'West', 'North', 'South'], ['North-East', 'North-West'], ['South-East', 'Soth-West']]\n"
     ]
    }
   ],
   "source": [
    "some_sides = ['East','West','North','South']\n",
    "more_sides1 = ['North-East','North-West']\n",
    "more_sides2 = ['South-East','Soth-West']\n",
    "\n",
    "nested_sides = [some_sides,more_sides1,more_sides2]\n",
    "\n",
    "print(nested_sides)"
   ]
  },
  {
   "cell_type": "code",
   "execution_count": 23,
   "metadata": {},
   "outputs": [
    {
     "name": "stdout",
     "output_type": "stream",
     "text": [
      "['East', 'West', 'North', 'South']\n",
      "East\n"
     ]
    }
   ],
   "source": [
    "# Fetch the first element of first list\n",
    "\n",
    "print(nested_sides[0])\n",
    "print(nested_sides[0][0])"
   ]
  },
  {
   "cell_type": "code",
   "execution_count": 24,
   "metadata": {},
   "outputs": [
    {
     "name": "stdout",
     "output_type": "stream",
     "text": [
      "['South-East', 'Soth-West']\n",
      "Soth-West\n"
     ]
    }
   ],
   "source": [
    "# Fetch the second element of third list\n",
    "\n",
    "print(nested_sides[2])\n",
    "print(nested_sides[2][1])"
   ]
  },
  {
   "cell_type": "markdown",
   "metadata": {},
   "source": [
    "### Lists Methods\n",
    "---\n",
    "\n",
    "Some common list methods\n",
    "\n",
    "+ append\n",
    "+ extend\n",
    "+ insert \n",
    "+ pop\n",
    "+ remove\n",
    "+ clear\n",
    "+ index\n",
    "+ count\n",
    "+ sort\n",
    "+ reverse"
   ]
  },
  {
   "cell_type": "code",
   "execution_count": 25,
   "metadata": {},
   "outputs": [],
   "source": [
    "# Creating a new list\n",
    "\n",
    "sides = ['East','West','North','South']"
   ]
  },
  {
   "cell_type": "markdown",
   "metadata": {},
   "source": [
    "#### Append(): \n",
    "Adds single element to the end of a list. Length of the list increases by 1 index."
   ]
  },
  {
   "cell_type": "code",
   "execution_count": 26,
   "metadata": {},
   "outputs": [
    {
     "name": "stdout",
     "output_type": "stream",
     "text": [
      "['East', 'West', 'North', 'South', 'North-East']\n"
     ]
    }
   ],
   "source": [
    "# Example 1:  Append Element in list\n",
    "\n",
    "sides.append('North-East')\n",
    "print(sides)"
   ]
  },
  {
   "cell_type": "code",
   "execution_count": 27,
   "metadata": {},
   "outputs": [
    {
     "name": "stdout",
     "output_type": "stream",
     "text": [
      "['East', 'West', 'North', 'South', 'North-East', 'South-East', 'South-West']\n"
     ]
    }
   ],
   "source": [
    "# Other way to append\n",
    "\n",
    "sides = sides + ['South-East','South-West']\n",
    "print(sides)"
   ]
  },
  {
   "cell_type": "code",
   "execution_count": 28,
   "metadata": {},
   "outputs": [
    {
     "name": "stdout",
     "output_type": "stream",
     "text": [
      "['East', 'West', ['North', 'South', 'North-East']]\n"
     ]
    }
   ],
   "source": [
    "# Example 2:  Append List with List (This will create nested list)\n",
    "\n",
    "sides = ['East','West']\n",
    "more_sides = ['North','South','North-East']\n",
    "\n",
    "sides.append(more_sides)\n",
    "print(sides)"
   ]
  },
  {
   "cell_type": "markdown",
   "metadata": {},
   "source": [
    "#### Extend():\n",
    "\n",
    "Add all elements of a list to the another list. It will not create nested list."
   ]
  },
  {
   "cell_type": "code",
   "execution_count": 29,
   "metadata": {},
   "outputs": [
    {
     "name": "stdout",
     "output_type": "stream",
     "text": [
      "['East', 'West', 'North', 'South', 'North-East']\n"
     ]
    }
   ],
   "source": [
    "# Example - Extending Lists\n",
    "\n",
    "sides = ['East','West']\n",
    "more_sides = ['North','South','North-East']\n",
    "\n",
    "sides.extend(more_sides)\n",
    "print(sides)"
   ]
  },
  {
   "cell_type": "markdown",
   "metadata": {},
   "source": [
    "#### Insert(): \n",
    "\n",
    "Inserts an element at the position mentioned in its arguments. It takes two arguments, position and element."
   ]
  },
  {
   "cell_type": "code",
   "execution_count": 30,
   "metadata": {},
   "outputs": [
    {
     "name": "stdout",
     "output_type": "stream",
     "text": [
      "['West', 'North']\n",
      "['East', 'West', 'North', 'South', 'South-East']\n"
     ]
    }
   ],
   "source": [
    "# Example Insert\n",
    "\n",
    "sides = ['West','North']\n",
    "\n",
    "print(sides)\n",
    "\n",
    "sides.insert(2,'South')\n",
    "sides.insert(3,'South-East')\n",
    "sides.insert(0,'East')\n",
    "\n",
    "print(sides)"
   ]
  },
  {
   "cell_type": "markdown",
   "metadata": {},
   "source": [
    "#### Pop(): \n",
    "Removes and returns an element at the given index. By default pop takes off the last index, but you can also specify which index to pop off."
   ]
  },
  {
   "cell_type": "code",
   "execution_count": 31,
   "metadata": {},
   "outputs": [
    {
     "data": {
      "text/plain": [
       "'South-East'"
      ]
     },
     "execution_count": 31,
     "metadata": {},
     "output_type": "execute_result"
    }
   ],
   "source": [
    "sides.pop() # Pop off the last indexed item, by default"
   ]
  },
  {
   "cell_type": "code",
   "execution_count": 32,
   "metadata": {},
   "outputs": [
    {
     "name": "stdout",
     "output_type": "stream",
     "text": [
      "['East', 'West', 'North', 'South']\n"
     ]
    }
   ],
   "source": [
    "print(sides)"
   ]
  },
  {
   "cell_type": "code",
   "execution_count": 33,
   "metadata": {},
   "outputs": [
    {
     "data": {
      "text/plain": [
       "'South'"
      ]
     },
     "execution_count": 33,
     "metadata": {},
     "output_type": "execute_result"
    }
   ],
   "source": [
    "sides.pop(3)  # Pop off the 3rd indexed item"
   ]
  },
  {
   "cell_type": "code",
   "execution_count": 34,
   "metadata": {},
   "outputs": [
    {
     "name": "stdout",
     "output_type": "stream",
     "text": [
      "['East', 'West', 'North']\n"
     ]
    }
   ],
   "source": [
    "print(sides)"
   ]
  },
  {
   "cell_type": "markdown",
   "metadata": {},
   "source": [
    "#### Remove():\n",
    "\n",
    "It is used to delete the first occurrence of item mentioned in its arguments."
   ]
  },
  {
   "cell_type": "code",
   "execution_count": 35,
   "metadata": {},
   "outputs": [
    {
     "name": "stdout",
     "output_type": "stream",
     "text": [
      "['West', 'North', 'East', 'South']\n"
     ]
    }
   ],
   "source": [
    "sides = ['East','West','North','East','South']\n",
    "\n",
    "sides.remove('East')\n",
    "print(sides)"
   ]
  },
  {
   "cell_type": "markdown",
   "metadata": {},
   "source": [
    "#### Clear():\n",
    "\n",
    "Removes all elements from the list."
   ]
  },
  {
   "cell_type": "code",
   "execution_count": 36,
   "metadata": {},
   "outputs": [
    {
     "name": "stdout",
     "output_type": "stream",
     "text": [
      "['East', 'West', 'North', 'South']\n"
     ]
    }
   ],
   "source": [
    "sides = ['East','West','North','South']\n",
    "print(sides)"
   ]
  },
  {
   "cell_type": "code",
   "execution_count": 37,
   "metadata": {},
   "outputs": [
    {
     "name": "stdout",
     "output_type": "stream",
     "text": [
      "0\n",
      "[]\n"
     ]
    }
   ],
   "source": [
    "sides.clear() # Clear the list\n",
    " \n",
    "print(len(sides))\n",
    "print(sides)"
   ]
  },
  {
   "cell_type": "markdown",
   "metadata": {},
   "source": [
    "#### Index() :\n",
    "\n",
    "Returns the index of the first matched item."
   ]
  },
  {
   "cell_type": "code",
   "execution_count": 38,
   "metadata": {},
   "outputs": [
    {
     "data": {
      "text/plain": [
       "3"
      ]
     },
     "execution_count": 38,
     "metadata": {},
     "output_type": "execute_result"
    }
   ],
   "source": [
    "sides = ['EAST','West','North','East','South','East']\n",
    "\n",
    "sides.index('East') "
   ]
  },
  {
   "cell_type": "markdown",
   "metadata": {},
   "source": [
    "#### Count():\n",
    "\n",
    "Returns the count of number of items passed as an argument."
   ]
  },
  {
   "cell_type": "code",
   "execution_count": 39,
   "metadata": {},
   "outputs": [
    {
     "data": {
      "text/plain": [
       "2"
      ]
     },
     "execution_count": 39,
     "metadata": {},
     "output_type": "execute_result"
    }
   ],
   "source": [
    "sides.count('East')"
   ]
  },
  {
   "cell_type": "markdown",
   "metadata": {},
   "source": [
    "#### Sort(): \n",
    "\n",
    "Sort items in a list in ascending order. \n",
    "list.sort() - In place sorting, return None."
   ]
  },
  {
   "cell_type": "code",
   "execution_count": 40,
   "metadata": {},
   "outputs": [
    {
     "name": "stdout",
     "output_type": "stream",
     "text": [
      "['West', 'North', 'East', 'South']\n",
      "['East', 'North', 'South', 'West']\n"
     ]
    }
   ],
   "source": [
    "sides = ['West','North','East','South']\n",
    "\n",
    "print(sides)\n",
    "sides.sort()\n",
    "print(sides)"
   ]
  },
  {
   "cell_type": "markdown",
   "metadata": {},
   "source": [
    "#### Reverse(): \n",
    "\n",
    "Reverse the order of items in the list.\n",
    "list.reverse() - In place reverse, return None."
   ]
  },
  {
   "cell_type": "code",
   "execution_count": 41,
   "metadata": {},
   "outputs": [
    {
     "name": "stdout",
     "output_type": "stream",
     "text": [
      "['East', 'North', 'South', 'West']\n",
      "['West', 'South', 'North', 'East']\n"
     ]
    }
   ],
   "source": [
    "print(sides)\n",
    "sides.reverse()\n",
    "print(sides)"
   ]
  },
  {
   "cell_type": "markdown",
   "metadata": {},
   "source": [
    "---\n",
    "\n",
    "Thanks!\n",
    "\n",
    "Happy Learning! Your feedback would be appreciated! \n",
    "\n",
    "[shobhitsingh.in](https://www.shobhitsingh.in)"
   ]
  }
 ],
 "metadata": {
  "kernelspec": {
   "display_name": "Python 3",
   "language": "python",
   "name": "python3"
  },
  "language_info": {
   "codemirror_mode": {
    "name": "ipython",
    "version": 3
   },
   "file_extension": ".py",
   "mimetype": "text/x-python",
   "name": "python",
   "nbconvert_exporter": "python",
   "pygments_lexer": "ipython3",
   "version": "3.7.7"
  }
 },
 "nbformat": 4,
 "nbformat_minor": 2
}
