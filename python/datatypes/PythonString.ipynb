{
 "cells": [
  {
   "cell_type": "markdown",
   "metadata": {},
   "source": [
    "## Python String\n",
    "---\n",
    "\n",
    "Python strings are immutable sequences of characters. Here are some examples of strings."
   ]
  },
  {
   "cell_type": "code",
   "execution_count": 1,
   "metadata": {},
   "outputs": [
    {
     "name": "stdout",
     "output_type": "stream",
     "text": [
      "Hello There!\n",
      "Hello There!\n",
      "This is also a string\n",
      "Another way\n",
      "This is also a string,\n",
      "this is second line.\n",
      "It's ok!\n",
      "He said \"It's ok!\"\n",
      "P\n"
     ]
    }
   ],
   "source": [
    "# Printing String\n",
    "\n",
    "print('Hello There!') # Enclosed using single quote\n",
    "print(\"Hello There!\") # Enclosed using double quote\n",
    "print(\"\"\"This is also a string\"\"\") # Enclosed using triple quote. \n",
    "print('''Another way''') # Enclosed using triple quote. \n",
    "print('''This is also a string,\n",
    "this is second line.''') # Enclosed using triple quote. \n",
    "\n",
    "print(\"It's ok!\") # Use double quote to enclose the string, if string is having single quote\n",
    "print('''He said \"It's ok!\"''' ) # Use triple quote to enclose the string, if string is having single + double quote\n",
    "print('P') # this single character also as string"
   ]
  },
  {
   "cell_type": "code",
   "execution_count": 2,
   "metadata": {},
   "outputs": [
    {
     "name": "stdout",
     "output_type": "stream",
     "text": [
      "<class 'int'>\n",
      "<class 'str'>\n"
     ]
    }
   ],
   "source": [
    "# Type Cast\n",
    "x = 101\n",
    "print(type(x))\n",
    "x = str(x)\n",
    "print(type(x))"
   ]
  },
  {
   "cell_type": "markdown",
   "metadata": {},
   "source": [
    "### String Indexing\n",
    "---\n",
    "Python strings are sequences of individual characters. We can access characters in strings by index. In Python index starts from 0, also if you want to start from the end, instead of the beginning then use a negative index.\n",
    "\n",
    "__Indexing Example:__\n",
    "\n",
    "`x = 'Python'`\n",
    "         \n",
    "|Index/String|P|y|t|h|o|n| \n",
    "|-|-|-|-|-|-|-| \n",
    "|+ve Index|  0|  1|  2 | 3|  4|  5|\n",
    "|+ve Index | 0 |-5 |-4| -3| -2| -1|"
   ]
  },
  {
   "cell_type": "code",
   "execution_count": 3,
   "metadata": {},
   "outputs": [],
   "source": [
    "# String Variable\n",
    "x = 'Python'"
   ]
  },
  {
   "cell_type": "code",
   "execution_count": 4,
   "metadata": {},
   "outputs": [
    {
     "data": {
      "text/plain": [
       "'P'"
      ]
     },
     "execution_count": 4,
     "metadata": {},
     "output_type": "execute_result"
    }
   ],
   "source": [
    "x[0] # Fetch the first character of string x"
   ]
  },
  {
   "cell_type": "code",
   "execution_count": 5,
   "metadata": {},
   "outputs": [
    {
     "data": {
      "text/plain": [
       "'y'"
      ]
     },
     "execution_count": 5,
     "metadata": {},
     "output_type": "execute_result"
    }
   ],
   "source": [
    "x[1] # Fetch the second character of string x"
   ]
  },
  {
   "cell_type": "code",
   "execution_count": 6,
   "metadata": {},
   "outputs": [
    {
     "data": {
      "text/plain": [
       "'n'"
      ]
     },
     "execution_count": 6,
     "metadata": {},
     "output_type": "execute_result"
    }
   ],
   "source": [
    "x[-1] # Fetch the last character of string x"
   ]
  },
  {
   "cell_type": "markdown",
   "metadata": {},
   "source": [
    "> Python strings are immutable. i.e. Once string is created, the elements within it can not be changed or replaced.  "
   ]
  },
  {
   "cell_type": "code",
   "execution_count": 7,
   "metadata": {},
   "outputs": [
    {
     "ename": "TypeError",
     "evalue": "'str' object does not support item assignment",
     "output_type": "error",
     "traceback": [
      "\u001b[1;31m---------------------------------------------------------------------------\u001b[0m",
      "\u001b[1;31mTypeError\u001b[0m                                 Traceback (most recent call last)",
      "\u001b[1;32m<ipython-input-7-5b400f918714>\u001b[0m in \u001b[0;36m<module>\u001b[1;34m\u001b[0m\n\u001b[0;32m      1\u001b[0m \u001b[1;31m# Let's try to change the first letter to 'J' of string x\u001b[0m\u001b[1;33m\u001b[0m\u001b[1;33m\u001b[0m\u001b[1;33m\u001b[0m\u001b[0m\n\u001b[1;32m----> 2\u001b[1;33m \u001b[0mx\u001b[0m\u001b[1;33m[\u001b[0m\u001b[1;36m0\u001b[0m\u001b[1;33m]\u001b[0m \u001b[1;33m=\u001b[0m \u001b[1;34m'J'\u001b[0m\u001b[1;33m\u001b[0m\u001b[1;33m\u001b[0m\u001b[0m\n\u001b[0m",
      "\u001b[1;31mTypeError\u001b[0m: 'str' object does not support item assignment"
     ]
    }
   ],
   "source": [
    "# Let's try to change the first letter to 'J' of string x\n",
    "x[0] = 'J'"
   ]
  },
  {
   "cell_type": "markdown",
   "metadata": {},
   "source": [
    "You can \"update\" an existing string by (re)assigning a variable to another string."
   ]
  },
  {
   "cell_type": "code",
   "execution_count": 8,
   "metadata": {},
   "outputs": [
    {
     "name": "stdout",
     "output_type": "stream",
     "text": [
      "Jython\n"
     ]
    }
   ],
   "source": [
    "x = 'J' + x[1:]\n",
    "print(x)"
   ]
  },
  {
   "cell_type": "markdown",
   "metadata": {},
   "source": [
    "### Slicing Python String\n",
    "---\n",
    "We can use a `:` to perform slicing which extracts chunk of character<br>\n",
    "__Note__: In slicing last index is not included.\n",
    "\n",
    "String x = 'Python'\n",
    "\n",
    "|Index/String|P|y|t|h|o|n| \n",
    "|-|-|-|-|-|-|-| \n",
    "|+ve Index|  0|  1|  2 | 3|  4|  5|\n",
    "|+ve Index | 0 |-5 |-4| -3| -2| -1|\n",
    "\n",
    "For Example:"
   ]
  },
  {
   "cell_type": "code",
   "execution_count": 9,
   "metadata": {},
   "outputs": [],
   "source": [
    "# String Variable\n",
    "x = 'Python'"
   ]
  },
  {
   "cell_type": "code",
   "execution_count": 10,
   "metadata": {},
   "outputs": [
    {
     "data": {
      "text/plain": [
       "'Py'"
      ]
     },
     "execution_count": 10,
     "metadata": {},
     "output_type": "execute_result"
    }
   ],
   "source": [
    "x[0:2] # fetch the first 2 character of string x. x[0:2] is same as x[:2]"
   ]
  },
  {
   "cell_type": "code",
   "execution_count": 11,
   "metadata": {},
   "outputs": [
    {
     "data": {
      "text/plain": [
       "'Pyt'"
      ]
     },
     "execution_count": 11,
     "metadata": {},
     "output_type": "execute_result"
    }
   ],
   "source": [
    "x[:3] # fetch the first 3 character of string x"
   ]
  },
  {
   "cell_type": "code",
   "execution_count": 12,
   "metadata": {},
   "outputs": [
    {
     "data": {
      "text/plain": [
       "'tho'"
      ]
     },
     "execution_count": 12,
     "metadata": {},
     "output_type": "execute_result"
    }
   ],
   "source": [
    "x[2:5] # fetch character from 2nd index to 3rd index"
   ]
  },
  {
   "cell_type": "code",
   "execution_count": 13,
   "metadata": {},
   "outputs": [
    {
     "data": {
      "text/plain": [
       "'thon'"
      ]
     },
     "execution_count": 13,
     "metadata": {},
     "output_type": "execute_result"
    }
   ],
   "source": [
    "x[2:] # fetch charcters start from index 2nd till last "
   ]
  },
  {
   "cell_type": "code",
   "execution_count": 14,
   "metadata": {},
   "outputs": [
    {
     "data": {
      "text/plain": [
       "'Pyt'"
      ]
     },
     "execution_count": 14,
     "metadata": {},
     "output_type": "execute_result"
    }
   ],
   "source": [
    "x[:3] # fetch charcters upto 3rd index, but 3rd is not included"
   ]
  },
  {
   "cell_type": "code",
   "execution_count": 15,
   "metadata": {},
   "outputs": [
    {
     "data": {
      "text/plain": [
       "'ytho'"
      ]
     },
     "execution_count": 15,
     "metadata": {},
     "output_type": "execute_result"
    }
   ],
   "source": [
    "x[-5:-1] # Negative Index also works in slicing"
   ]
  },
  {
   "cell_type": "code",
   "execution_count": 16,
   "metadata": {},
   "outputs": [
    {
     "data": {
      "text/plain": [
       "'Python'"
      ]
     },
     "execution_count": 16,
     "metadata": {},
     "output_type": "execute_result"
    }
   ],
   "source": [
    "x[::] # fetch complete string"
   ]
  },
  {
   "cell_type": "code",
   "execution_count": 17,
   "metadata": {},
   "outputs": [
    {
     "data": {
      "text/plain": [
       "'thon'"
      ]
     },
     "execution_count": 17,
     "metadata": {},
     "output_type": "execute_result"
    }
   ],
   "source": [
    "x[2:15]  # it will not raise error, even though size of string is 6"
   ]
  },
  {
   "cell_type": "code",
   "execution_count": 18,
   "metadata": {},
   "outputs": [
    {
     "data": {
      "text/plain": [
       "''"
      ]
     },
     "execution_count": 18,
     "metadata": {},
     "output_type": "execute_result"
    }
   ],
   "source": [
    "x[3:1]  # it will not raise error, even though invalid range is provided"
   ]
  },
  {
   "cell_type": "markdown",
   "metadata": {},
   "source": [
    "#### Skipping Characters using third parameter"
   ]
  },
  {
   "cell_type": "code",
   "execution_count": 19,
   "metadata": {},
   "outputs": [
    {
     "data": {
      "text/plain": [
       "'Python'"
      ]
     },
     "execution_count": 19,
     "metadata": {},
     "output_type": "execute_result"
    }
   ],
   "source": [
    "x = 'Python'\n",
    "x[::1] # Default is 1"
   ]
  },
  {
   "cell_type": "code",
   "execution_count": 20,
   "metadata": {},
   "outputs": [
    {
     "data": {
      "text/plain": [
       "'Pto'"
      ]
     },
     "execution_count": 20,
     "metadata": {},
     "output_type": "execute_result"
    }
   ],
   "source": [
    "x[::2] # Skip every 2nd character"
   ]
  },
  {
   "cell_type": "code",
   "execution_count": 21,
   "metadata": {},
   "outputs": [
    {
     "data": {
      "text/plain": [
       "'Pto'"
      ]
     },
     "execution_count": 21,
     "metadata": {},
     "output_type": "execute_result"
    }
   ],
   "source": [
    "x[0:5:2] # Skip every 2nd character"
   ]
  },
  {
   "cell_type": "code",
   "execution_count": 22,
   "metadata": {},
   "outputs": [
    {
     "data": {
      "text/plain": [
       "'nohtyP'"
      ]
     },
     "execution_count": 22,
     "metadata": {},
     "output_type": "execute_result"
    }
   ],
   "source": [
    "x[::-1] # Reverse String"
   ]
  },
  {
   "cell_type": "markdown",
   "metadata": {},
   "source": [
    "### String Methods Examples\n",
    "---\n",
    "\n",
    "Python String provides so many methods to do the string manipulations. See below examples."
   ]
  },
  {
   "cell_type": "code",
   "execution_count": 23,
   "metadata": {},
   "outputs": [
    {
     "name": "stdout",
     "output_type": "stream",
     "text": [
      "['Python', 'is', 'fully-functional', 'programming', 'language', 'that', 'can', 'do', 'almost', 'anything']\n"
     ]
    }
   ],
   "source": [
    "# Split - Splits string as per provided delimiter ( default space) and returns list of substrings; \n",
    "\n",
    "x = 'Python is fully-functional programming language that can do almost anything'\n",
    "print(x.split())"
   ]
  },
  {
   "cell_type": "code",
   "execution_count": 24,
   "metadata": {},
   "outputs": [
    {
     "name": "stdout",
     "output_type": "stream",
     "text": [
      "['A', 'B', 'C', 'D', 'E', 'F']\n"
     ]
    }
   ],
   "source": [
    "x = 'A,B,C,D,E,F'\n",
    "print(x.split(',')) # Comma as delimeter"
   ]
  },
  {
   "cell_type": "code",
   "execution_count": 25,
   "metadata": {},
   "outputs": [
    {
     "name": "stdout",
     "output_type": "stream",
     "text": [
      "PYTHON\n",
      "python\n"
     ]
    }
   ],
   "source": [
    "# Upper & Lower Case\n",
    "\n",
    "x = 'Python'\n",
    "print(x.upper())\n",
    "print(x.lower())"
   ]
  },
  {
   "cell_type": "code",
   "execution_count": 26,
   "metadata": {},
   "outputs": [
    {
     "name": "stdout",
     "output_type": "stream",
     "text": [
      "True\n",
      "False\n",
      "False\n"
     ]
    },
    {
     "data": {
      "text/plain": [
       "7"
      ]
     },
     "execution_count": 26,
     "metadata": {},
     "output_type": "execute_result"
    }
   ],
   "source": [
    "# Checking String whether contains only alpha or numeric \n",
    "\n",
    "x = 'Python3'\n",
    "print(x.isalnum())\n",
    "print(x.isalpha())\n",
    "print(x.isnumeric())\n",
    "len(x)"
   ]
  },
  {
   "cell_type": "code",
   "execution_count": 27,
   "metadata": {},
   "outputs": [
    {
     "name": "stdout",
     "output_type": "stream",
     "text": [
      "True\n",
      "True\n"
     ]
    }
   ],
   "source": [
    "x = 'Python'\n",
    "y = '1010101'\n",
    "print(x.isalpha())\n",
    "print(y.isnumeric())"
   ]
  },
  {
   "cell_type": "code",
   "execution_count": 28,
   "metadata": {},
   "outputs": [
    {
     "name": "stdout",
     "output_type": "stream",
     "text": [
      "2\n",
      "13\n",
      "True\n"
     ]
    }
   ],
   "source": [
    "# some more methods\n",
    "\n",
    "my_str = \"Hello World! This is first line. Ok\"\n",
    "print(my_str.count('e'))\n",
    "print(my_str.find('This'))\n",
    "print(my_str.endswith('Ok'))"
   ]
  },
  {
   "cell_type": "markdown",
   "metadata": {},
   "source": [
    "#### Lstrip, RStrip & Strip Method - For removing white spaces"
   ]
  },
  {
   "cell_type": "code",
   "execution_count": 29,
   "metadata": {},
   "outputs": [
    {
     "data": {
      "text/plain": [
       "'Python3    '"
      ]
     },
     "execution_count": 29,
     "metadata": {},
     "output_type": "execute_result"
    }
   ],
   "source": [
    "# lstrip - Remove white space from left\n",
    "\n",
    "x = '    Python3    '\n",
    "x.lstrip()"
   ]
  },
  {
   "cell_type": "code",
   "execution_count": 30,
   "metadata": {},
   "outputs": [
    {
     "data": {
      "text/plain": [
       "'    Python3'"
      ]
     },
     "execution_count": 30,
     "metadata": {},
     "output_type": "execute_result"
    }
   ],
   "source": [
    "# rstrip - Remove white space from left\n",
    "\n",
    "x = '    Python3    '\n",
    "x.rstrip()"
   ]
  },
  {
   "cell_type": "code",
   "execution_count": 31,
   "metadata": {},
   "outputs": [
    {
     "data": {
      "text/plain": [
       "'Python3'"
      ]
     },
     "execution_count": 31,
     "metadata": {},
     "output_type": "execute_result"
    }
   ],
   "source": [
    "# rstrip - Remove white space from left & right\n",
    "\n",
    "x = '    Python3    '\n",
    "x.strip()"
   ]
  },
  {
   "cell_type": "markdown",
   "metadata": {},
   "source": [
    "#### .format() String Method\n",
    "\n",
    "Insert objects dynamically in the string using assigment keywords or index. It can also persorm alignment, padding & precision of floating point numbers."
   ]
  },
  {
   "cell_type": "code",
   "execution_count": 32,
   "metadata": {},
   "outputs": [],
   "source": [
    "import datetime\n",
    "d = str(datetime.datetime.now())"
   ]
  },
  {
   "cell_type": "code",
   "execution_count": 33,
   "metadata": {},
   "outputs": [
    {
     "data": {
      "text/plain": [
       "\"Today's date & time is 2020-09-13 17:45:33.974863\""
      ]
     },
     "execution_count": 33,
     "metadata": {},
     "output_type": "execute_result"
    }
   ],
   "source": [
    "# Example 1 - \n",
    "\n",
    "x = \"Today's date & time is {}\"\n",
    "\n",
    "x.format(d)"
   ]
  },
  {
   "cell_type": "code",
   "execution_count": 34,
   "metadata": {},
   "outputs": [
    {
     "name": "stdout",
     "output_type": "stream",
     "text": [
      "Today's date & time is 2020-09-13 17:45:35.328723\n"
     ]
    }
   ],
   "source": [
    "# Example 2\n",
    "\n",
    "x = \"Today's date & time is %s\" %datetime.datetime.now()\n",
    "\n",
    "print(x)"
   ]
  },
  {
   "cell_type": "code",
   "execution_count": 35,
   "metadata": {},
   "outputs": [
    {
     "name": "stdout",
     "output_type": "stream",
     "text": [
      "a friend in need is a friend indeed\n",
      "a friend in need is a friend indeed\n"
     ]
    }
   ],
   "source": [
    "# Example 3\n",
    "\n",
    "print('a {f} in need is a {f} indeed'.format(f='friend'))\n",
    "print('a {0} in need is a {0} indeed'.format('friend'))"
   ]
  },
  {
   "cell_type": "code",
   "execution_count": 36,
   "metadata": {},
   "outputs": [
    {
     "name": "stdout",
     "output_type": "stream",
     "text": [
      "a friend in need is a friend indeed\n",
      "Today's date & time is 2020-09-13 17:45:36.557019\n",
      "My name is John, my age is 21 & my height is 150.560000\n"
     ]
    }
   ],
   "source": [
    "# String Formatting Operator - % \n",
    "# Oldest method involves placeholders using the modulo % character. %s for string, %c is for character, %i integer, %f float etc\n",
    "\n",
    "\n",
    "print('a %s in need is a %s indeed' %('friend','friend'))\n",
    "\n",
    "x = \"Today's date & time is %s\" %datetime.datetime.now()\n",
    "print(x)\n",
    "\n",
    "x = \"My name is %s, my age is %i & my height is %f\" % ('John', 21, 150.56)\n",
    "print(x)"
   ]
  },
  {
   "cell_type": "markdown",
   "metadata": {},
   "source": [
    "#### Precision of Float with .format() Method\n",
    "\n",
    "You can add precision for float point numbers in string. See below example.\n",
    "\n",
    "x = \"My height is %5.1f\" % (150.5678)\n",
    "\n",
    "+ .1f stands for how many numbers to show past the decimal point.\n",
    "+ 5 would be the minimum number of characters the string should contain. Padded with whitespace if the entire number does not have this many digits.\n"
   ]
  },
  {
   "cell_type": "code",
   "execution_count": 37,
   "metadata": {},
   "outputs": [
    {
     "name": "stdout",
     "output_type": "stream",
     "text": [
      "My height is 150.6\n"
     ]
    }
   ],
   "source": [
    "x = \"My height is %5.1f\" % (150.5678)\n",
    "print(x)"
   ]
  },
  {
   "cell_type": "code",
   "execution_count": 38,
   "metadata": {},
   "outputs": [
    {
     "name": "stdout",
     "output_type": "stream",
     "text": [
      "My height is          150.57\n"
     ]
    }
   ],
   "source": [
    "x = \"My height is %15.2f\" % (150.5678)\n",
    "print(x)"
   ]
  },
  {
   "cell_type": "markdown",
   "metadata": {},
   "source": [
    "####  Padding & Alignment with .format() Method"
   ]
  },
  {
   "cell_type": "code",
   "execution_count": 39,
   "metadata": {},
   "outputs": [
    {
     "name": "stdout",
     "output_type": "stream",
     "text": [
      "FName | Age\n",
      "A     |  14\n",
      "B     |  12\n"
     ]
    }
   ],
   "source": [
    "# Padding\n",
    "\n",
    "print('{0:5} | {1:3}'.format('FName', 'Age'))\n",
    "print('{0:5} | {1:3}'.format('A', 14))\n",
    "print('{0:5} | {1:3}'.format('B', 12))"
   ]
  },
  {
   "cell_type": "markdown",
   "metadata": {},
   "source": [
    "> By default, .format() aligns text to the left, numbers to the right. \n",
    "Pass an optional <,^, or > to set a left, center or right alignment as per requirement."
   ]
  },
  {
   "cell_type": "code",
   "execution_count": 40,
   "metadata": {},
   "outputs": [
    {
     "name": "stdout",
     "output_type": "stream",
     "text": [
      "FName | Age\n",
      "  A   | 14 \n",
      "  B   | 12 \n"
     ]
    }
   ],
   "source": [
    "# Alignment\n",
    "\n",
    "print('{0:^5} | {1:^3}'.format('FName', 'Age'))\n",
    "print('{0:^5} | {1:^3}'.format('A', 14))\n",
    "print('{0:^5} | {1:^3}'.format('B', 12))"
   ]
  },
  {
   "cell_type": "code",
   "execution_count": 41,
   "metadata": {},
   "outputs": [
    {
     "name": "stdout",
     "output_type": "stream",
     "text": [
      "--FName--- | ---Age----\n"
     ]
    }
   ],
   "source": [
    "print('{0:-^10} | {1:-^10}'.format('FName', 'Age'))"
   ]
  },
  {
   "cell_type": "markdown",
   "metadata": {},
   "source": [
    "There are many more string methods eg. count, find, decode, encode, index etc.\n",
    "\n",
    "---\n",
    "Thanks!\n",
    "\n",
    "Happy Learning! Your feedback would be appreciated!\n",
    "[shobhitsingh.in](https://www.shobhitsingh.in/)"
   ]
  }
 ],
 "metadata": {
  "kernelspec": {
   "display_name": "Python 3",
   "language": "python",
   "name": "python3"
  },
  "language_info": {
   "codemirror_mode": {
    "name": "ipython",
    "version": 3
   },
   "file_extension": ".py",
   "mimetype": "text/x-python",
   "name": "python",
   "nbconvert_exporter": "python",
   "pygments_lexer": "ipython3",
   "version": "3.7.7"
  }
 },
 "nbformat": 4,
 "nbformat_minor": 2
}
