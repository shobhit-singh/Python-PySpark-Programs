{
 "cells": [
  {
   "cell_type": "markdown",
   "metadata": {},
   "source": [
    "# Python Dictionary\n",
    "---\n",
    "Python dictionary is an unordered collection of items. It consists of a key value pairs. \n",
    "\n",
    "+ Un-ordered & cannot be sorted.\n",
    "+ Value can be almost any Python object. \n",
    "+ Value can be accessed by unique key in the dictionary.\n",
    "+ Keys must be of an immutable data type. Example - strings, numbers or tuples.\n",
    "\n",
    "Creating a dictionary is as simple as placing items inside curly braces {} separated by comma. An item has a key and the corresponding value expressed as a pair, key: value.\n",
    "\n",
    "{'key1':'value1','key2':'value2'}"
   ]
  },
  {
   "cell_type": "code",
   "execution_count": 1,
   "metadata": {},
   "outputs": [
    {
     "name": "stdout",
     "output_type": "stream",
     "text": [
      "{'N': 'North', 'S': 'South', 'E': 'East', 'W': 'West'}\n",
      "{1: 'North', 2: 'South', 3: 'East', 4: 'West'}\n",
      "{'North': 1, 'South': 2, 'East': 3, 'West': 4}\n",
      "{'N': 'North', 2: 'South', 'East': 3, 'West': 'W', 'ComplexNumber': (5+500j), 5.5: [1, 2, 3, 4]}\n",
      "{'Aphabets': {'A': {'Fruit': 'Apple', 'Object': 'Aeroplane'}, 'B': {'Fruit': 'Banana', 'Object': 'Ball'}}, 'Numbers': {0: 'Zero', 1: 'One', 2: 'Two', 3: 'Three', 4: 'Four', 5: 'Five', 6: 'Six', 7: 'Seven'}}\n"
     ]
    }
   ],
   "source": [
    "# Examples of Python Dictionary:\n",
    "\n",
    "# Dictionary having string keys & string value\n",
    "my_dict0 = { \"N\": \"North\", \"S\": \"South\", \"E\": \"East\", \"W\": \"West\" } \n",
    "\n",
    "# Dictionary having integer keys & string value\n",
    "my_dict1 = {  1: 'North', 2: 'South', 3: 'East', 4: 'West'} \n",
    "\n",
    "# Dictionary having string keys & integer value\n",
    "my_dict2 = { 'North' : 1, 'South': 2, 'East': 3,'West':4}\n",
    "\n",
    "# Dictionary having mixed keys & values\n",
    "my_dict3 = { 'N' : 'North', 2: 'South', 'East': 3,'West':'W', \"ComplexNumber\":5+500j, 5.5:[1,2,3,4]} \n",
    "\n",
    "# Nested Dictionary\n",
    "my_dict4 = { 'Aphabets' : { 'A':{'Fruit':'Apple','Object':'Aeroplane'},'B':{'Fruit':'Banana','Object':'Ball'}} , \n",
    "             'Numbers'  : {  0: 'Zero', 1:'One', 2:'Two', 3:'Three', 4:'Four', 5:'Five', 6:'Six', 7:'Seven'} \n",
    "           } \n",
    "\n",
    "print(my_dict0)\n",
    "print(my_dict1)\n",
    "print(my_dict2)\n",
    "print(my_dict3)\n",
    "print(my_dict4)"
   ]
  },
  {
   "cell_type": "markdown",
   "metadata": {},
   "source": [
    "Other way to create dictionary to use the `dict()` constructor to make a dictionary:"
   ]
  },
  {
   "cell_type": "code",
   "execution_count": 2,
   "metadata": {},
   "outputs": [
    {
     "name": "stdout",
     "output_type": "stream",
     "text": [
      "{'N': 'North', 'S': 'South', 'E': 'East', 'W': 'West'}\n"
     ]
    }
   ],
   "source": [
    "sides = dict(N=\"North\", S=\"South\", E=\"East\",W=\"West\")\n",
    "print(sides)"
   ]
  },
  {
   "cell_type": "markdown",
   "metadata": {},
   "source": [
    "####  Access elements from a dictionary"
   ]
  },
  {
   "cell_type": "code",
   "execution_count": 3,
   "metadata": {},
   "outputs": [
    {
     "name": "stdout",
     "output_type": "stream",
     "text": [
      "North\n",
      "South\n"
     ]
    }
   ],
   "source": [
    "# Fetching dictionary values by key\n",
    "\n",
    "print(sides['N'])\n",
    "print(sides.get('S'))"
   ]
  },
  {
   "cell_type": "code",
   "execution_count": 4,
   "metadata": {},
   "outputs": [
    {
     "data": {
      "text/plain": [
       "'Aeroplane'"
      ]
     },
     "execution_count": 4,
     "metadata": {},
     "output_type": "execute_result"
    }
   ],
   "source": [
    "# Nested Dictionary\n",
    "my_dict = { 'Aphabets' : { 'A':{'Fruit':'Apple','Object':'Aeroplane'},'B':{'Fruit':'Banana','Object':'Ball'}} , \n",
    "             'Numbers'  : {  0: 'Zero', 1:'One', 2:'Two', 3:'Three', 4:'Four', 5:'Five', 6:'Six', 7:'Seven'} \n",
    "           } \n",
    "\n",
    "my_dict['Aphabets']['A']['Object']"
   ]
  },
  {
   "cell_type": "code",
   "execution_count": 5,
   "metadata": {},
   "outputs": [
    {
     "data": {
      "text/plain": [
       "'Five'"
      ]
     },
     "execution_count": 5,
     "metadata": {},
     "output_type": "execute_result"
    }
   ],
   "source": [
    "my_dict4['Numbers'][5]"
   ]
  },
  {
   "cell_type": "markdown",
   "metadata": {},
   "source": [
    "#### In Python dictionary no duplicate key is allowed."
   ]
  },
  {
   "cell_type": "code",
   "execution_count": 6,
   "metadata": {},
   "outputs": [
    {
     "name": "stdout",
     "output_type": "stream",
     "text": [
      "{'N': 'North', 'S': 'South'}\n"
     ]
    }
   ],
   "source": [
    "# Creating a dictionary having duplicate keys\n",
    "\n",
    "sides ={  \"N\": \"East\",  \"S\": \"South\",  \"N\": \"West\",  \"N\": \"North\"  }\n",
    "print(sides)"
   ]
  },
  {
   "cell_type": "markdown",
   "metadata": {},
   "source": [
    "> When duplicate keys found during dictionary creation, the last assignment is final one. See above example."
   ]
  },
  {
   "cell_type": "markdown",
   "metadata": {},
   "source": [
    "### Updating Dictionary\n",
    "---\n",
    "\n",
    "Adding a new key-value pair, modifying an existing key-value pair, or deleting an existing key-value pair."
   ]
  },
  {
   "cell_type": "code",
   "execution_count": 7,
   "metadata": {},
   "outputs": [
    {
     "name": "stdout",
     "output_type": "stream",
     "text": [
      "{'N': 'North', 'S': 'South', 'E': 'East', 'W': 'West'}\n"
     ]
    }
   ],
   "source": [
    "# Creating a new dictionary\n",
    "\n",
    "sides = dict(N=\"North\", S=\"South\", E=\"East\",W=\"West\")\n",
    "print(sides)"
   ]
  },
  {
   "cell_type": "markdown",
   "metadata": {},
   "source": [
    "#### Adding a new key:value pairs to existing dictionary"
   ]
  },
  {
   "cell_type": "code",
   "execution_count": 8,
   "metadata": {},
   "outputs": [
    {
     "name": "stdout",
     "output_type": "stream",
     "text": [
      "{'N': 'North', 'S': 'South', 'E': 'East', 'W': 'West', 'NE': 'North-East', 'NW': 'North-West'}\n"
     ]
    }
   ],
   "source": [
    "sides['NE'] = 'North-East'\n",
    "sides['NW'] = 'North-West'\n",
    "print(sides)"
   ]
  },
  {
   "cell_type": "markdown",
   "metadata": {},
   "source": [
    "#### Updating key:value pair"
   ]
  },
  {
   "cell_type": "code",
   "execution_count": 9,
   "metadata": {},
   "outputs": [
    {
     "name": "stdout",
     "output_type": "stream",
     "text": [
      "{'N': 'North', 'S': 'South', 'E': 'East', 'W': 'West', 'NE': 'North East', 'NW': 'North West'}\n"
     ]
    }
   ],
   "source": [
    "sides['NE'] = 'North East'\n",
    "sides['NW'] = 'North West'\n",
    "print(sides)"
   ]
  },
  {
   "cell_type": "code",
   "execution_count": 10,
   "metadata": {},
   "outputs": [
    {
     "data": {
      "text/plain": [
       "'North East'"
      ]
     },
     "execution_count": 10,
     "metadata": {},
     "output_type": "execute_result"
    }
   ],
   "source": [
    "sides['NE']"
   ]
  },
  {
   "cell_type": "markdown",
   "metadata": {},
   "source": [
    "#### Deleting an existing key:value pair"
   ]
  },
  {
   "cell_type": "code",
   "execution_count": 11,
   "metadata": {},
   "outputs": [
    {
     "name": "stdout",
     "output_type": "stream",
     "text": [
      "{'N': 'North', 'S': 'South', 'E': 'East', 'W': 'West', 'NE': 'North East', 'NW': 'North West'}\n"
     ]
    }
   ],
   "source": [
    "print(sides)"
   ]
  },
  {
   "cell_type": "code",
   "execution_count": 12,
   "metadata": {},
   "outputs": [
    {
     "name": "stdout",
     "output_type": "stream",
     "text": [
      "{'S': 'South', 'E': 'East', 'W': 'West', 'NE': 'North East', 'NW': 'North West'}\n"
     ]
    }
   ],
   "source": [
    "del sides ['N'] # Remove the provided Key \n",
    "print(sides)"
   ]
  },
  {
   "cell_type": "code",
   "execution_count": 13,
   "metadata": {},
   "outputs": [],
   "source": [
    "del sides ; # delete dictionary completely"
   ]
  },
  {
   "cell_type": "markdown",
   "metadata": {},
   "source": [
    "### Dictionary Methods\n",
    "---\n",
    "\n",
    "Python Dictionary provides so many methods. See below some examples"
   ]
  },
  {
   "cell_type": "code",
   "execution_count": 14,
   "metadata": {},
   "outputs": [
    {
     "name": "stdout",
     "output_type": "stream",
     "text": [
      "{'N': 'North', 'S': 'South', 'E': 'East', 'W': 'West'}\n"
     ]
    }
   ],
   "source": [
    "sides = dict(N=\"North\", S=\"South\", E=\"East\",W=\"West\")\n",
    "print(sides)"
   ]
  },
  {
   "cell_type": "markdown",
   "metadata": {},
   "source": [
    "#### Get() \n",
    "\n",
    "It return Value for Key."
   ]
  },
  {
   "cell_type": "code",
   "execution_count": 15,
   "metadata": {},
   "outputs": [
    {
     "name": "stdout",
     "output_type": "stream",
     "text": [
      "South\n"
     ]
    }
   ],
   "source": [
    "print(sides.get('S'))"
   ]
  },
  {
   "cell_type": "markdown",
   "metadata": {},
   "source": [
    "#### Items(), Keys () & Value()\n",
    "\n",
    "Item - It return the list with all dictionary keys with values. \n",
    "Keys - It return list of dictionary dict's keys.\n",
    "Value - It returns list of dictionary dict's values."
   ]
  },
  {
   "cell_type": "code",
   "execution_count": 16,
   "metadata": {},
   "outputs": [
    {
     "name": "stdout",
     "output_type": "stream",
     "text": [
      "dict_items([('N', 'North'), ('S', 'South'), ('E', 'East'), ('W', 'West')])\n",
      "dict_keys(['N', 'S', 'E', 'W'])\n",
      "dict_values(['North', 'South', 'East', 'West'])\n"
     ]
    }
   ],
   "source": [
    "print(sides.items())\n",
    "print(sides.keys())\n",
    "print(sides.values())"
   ]
  },
  {
   "cell_type": "markdown",
   "metadata": {},
   "source": [
    "#### Copy() \n"
   ]
  },
  {
   "cell_type": "markdown",
   "metadata": {},
   "source": [
    "If you assign new dictionary to another, it will not copy. Its just pointer. If you do any change in new_sides, it will reflect in sides dict also.\n",
    "<br>\n",
    "new_sides = sides\n",
    "<br>\n",
    "To creates the copy of the dictionary into other dictionary - Use copy command"
   ]
  },
  {
   "cell_type": "code",
   "execution_count": 17,
   "metadata": {},
   "outputs": [],
   "source": [
    "new_sides = {}\n",
    "new_sides = sides.copy()"
   ]
  },
  {
   "cell_type": "code",
   "execution_count": 18,
   "metadata": {},
   "outputs": [
    {
     "name": "stdout",
     "output_type": "stream",
     "text": [
      "{'N': 'North', 'S': 'South', 'E': 'East', 'W': 'West'}\n"
     ]
    }
   ],
   "source": [
    "print(new_sides)"
   ]
  },
  {
   "cell_type": "markdown",
   "metadata": {},
   "source": [
    "#### Update() \n",
    "\n",
    "Adds dictionary key-values pairs to another dictionary."
   ]
  },
  {
   "cell_type": "code",
   "execution_count": 19,
   "metadata": {},
   "outputs": [
    {
     "name": "stdout",
     "output_type": "stream",
     "text": [
      "{'N': 'North', 'S': 'South', 'E': 'East', 'W': 'West'}\n",
      "{'NE': 'North-East', 'SE': 'South-East'}\n"
     ]
    }
   ],
   "source": [
    "sides = dict(N=\"North\", S=\"South\", E=\"East\",W=\"West\")\n",
    "some_more_sides = dict(NE=\"North-East\", SE=\"South-East\")\n",
    "\n",
    "print(sides)\n",
    "print(some_more_sides)"
   ]
  },
  {
   "cell_type": "code",
   "execution_count": 20,
   "metadata": {},
   "outputs": [
    {
     "name": "stdout",
     "output_type": "stream",
     "text": [
      "{'N': 'North', 'S': 'South', 'E': 'East', 'W': 'West', 'NE': 'North-East', 'SE': 'South-East'}\n"
     ]
    }
   ],
   "source": [
    "sides.update(some_more_sides)\n",
    "print(sides)"
   ]
  },
  {
   "cell_type": "markdown",
   "metadata": {},
   "source": [
    "#### Clear() \n",
    "\n",
    "Removes all elements of dictionary."
   ]
  },
  {
   "cell_type": "code",
   "execution_count": 21,
   "metadata": {},
   "outputs": [
    {
     "name": "stdout",
     "output_type": "stream",
     "text": [
      "{}\n"
     ]
    }
   ],
   "source": [
    "some_more_sides.clear(); # Remove all entries in dictionary\n",
    "print(some_more_sides)"
   ]
  },
  {
   "cell_type": "markdown",
   "metadata": {},
   "source": [
    "---\n",
    "\n",
    "Thanks!\n",
    "\n",
    "Happy Learning! Your feedback would be appreciated!\n",
    "\n",
    "[shobhitsingh.in](http://shobhitsingh.in/)"
   ]
  }
 ],
 "metadata": {
  "kernelspec": {
   "display_name": "Python 3",
   "language": "python",
   "name": "python3"
  },
  "language_info": {
   "codemirror_mode": {
    "name": "ipython",
    "version": 3
   },
   "file_extension": ".py",
   "mimetype": "text/x-python",
   "name": "python",
   "nbconvert_exporter": "python",
   "pygments_lexer": "ipython3",
   "version": "3.7.7"
  }
 },
 "nbformat": 4,
 "nbformat_minor": 2
}
