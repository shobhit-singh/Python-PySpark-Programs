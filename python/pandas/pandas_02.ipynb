{
 "cells": [
  {
   "cell_type": "markdown",
   "metadata": {},
   "source": [
    "### pandas 02\n",
    "\n",
    "In this notebook we will explore index of dataframe, set/reset default index to other unique column of dataframe.\n",
    "\n",
    "|S.No|Action|Command|Input|Output|\n",
    "|:----|:-----|:-----:|:-----:|:-----:|\n",
    "|1|Check the index of this dataframe|df.index||details of index|\n",
    "|2|Set the index of dataframe to given column |df.set_index('column-name', inplace=True)|column-name|None if inplace=True|\n",
    "|3|Reset the index of dataframe to given column|df.reset_index(inplace=True) |-|None if inplace=True|\n",
    "|4|Set index at the time of df creation|pd.read_csv('netflix_titles.csv',index_col='show_id') |columnname|dataframe|\n",
    "|5|Sort the data, base on index|df.sort_index(ascending=False, inplace=True) |-|None if inplace=True|\n"
   ]
  },
  {
   "cell_type": "code",
   "execution_count": 1,
   "metadata": {},
   "outputs": [
    {
     "name": "stdout",
     "output_type": "stream",
     "text": [
      "Let's start exploring 🐼 using 🐍\n"
     ]
    }
   ],
   "source": [
    "import pandas as pd\n",
    "print(\"Let's start exploring\", '\\U0001F43C' , 'using',\"\\U0001F40D\")"
   ]
  },
  {
   "cell_type": "code",
   "execution_count": 2,
   "metadata": {},
   "outputs": [],
   "source": [
    "# read the csv file as pandas dataframe. Dataset from https://www.kaggle.com/\n",
    "df = pd.read_csv('netflix_titles.csv')"
   ]
  },
  {
   "cell_type": "code",
   "execution_count": 3,
   "metadata": {},
   "outputs": [
    {
     "data": {
      "text/html": [
       "<div>\n",
       "<style scoped>\n",
       "    .dataframe tbody tr th:only-of-type {\n",
       "        vertical-align: middle;\n",
       "    }\n",
       "\n",
       "    .dataframe tbody tr th {\n",
       "        vertical-align: top;\n",
       "    }\n",
       "\n",
       "    .dataframe thead th {\n",
       "        text-align: right;\n",
       "    }\n",
       "</style>\n",
       "<table border=\"1\" class=\"dataframe\">\n",
       "  <thead>\n",
       "    <tr style=\"text-align: right;\">\n",
       "      <th></th>\n",
       "      <th>show_id</th>\n",
       "      <th>type</th>\n",
       "      <th>title</th>\n",
       "      <th>director</th>\n",
       "      <th>cast</th>\n",
       "      <th>country</th>\n",
       "      <th>date_added</th>\n",
       "      <th>release_year</th>\n",
       "      <th>rating</th>\n",
       "      <th>duration</th>\n",
       "      <th>listed_in</th>\n",
       "      <th>description</th>\n",
       "    </tr>\n",
       "  </thead>\n",
       "  <tbody>\n",
       "    <tr>\n",
       "      <th>0</th>\n",
       "      <td>81145628</td>\n",
       "      <td>NaN</td>\n",
       "      <td>Norm of the North: King Sized Adventure</td>\n",
       "      <td>Richard Finn, Tim Maltby</td>\n",
       "      <td>Alan Marriott, Andrew Toth, Brian Dobson, Cole...</td>\n",
       "      <td>United States, India, South Korea, China</td>\n",
       "      <td>September 9, 2019</td>\n",
       "      <td>2019</td>\n",
       "      <td>TV-PG</td>\n",
       "      <td>90 min</td>\n",
       "      <td>Children &amp; Family Movies, Comedies</td>\n",
       "      <td>Before planning an awesome wedding for his gra...</td>\n",
       "    </tr>\n",
       "    <tr>\n",
       "      <th>1</th>\n",
       "      <td>80117401</td>\n",
       "      <td>NaN</td>\n",
       "      <td>Jandino: Whatever it Takes</td>\n",
       "      <td>NaN</td>\n",
       "      <td>Jandino Asporaat</td>\n",
       "      <td>United Kingdom</td>\n",
       "      <td>September 9, 2016</td>\n",
       "      <td>2016</td>\n",
       "      <td>TV-MA</td>\n",
       "      <td>94 min</td>\n",
       "      <td>Stand-Up Comedy</td>\n",
       "      <td>Jandino Asporaat riffs on the challenges of ra...</td>\n",
       "    </tr>\n",
       "  </tbody>\n",
       "</table>\n",
       "</div>"
      ],
      "text/plain": [
       "    show_id type                                    title  \\\n",
       "0  81145628  NaN  Norm of the North: King Sized Adventure   \n",
       "1  80117401  NaN               Jandino: Whatever it Takes   \n",
       "\n",
       "                   director  \\\n",
       "0  Richard Finn, Tim Maltby   \n",
       "1                       NaN   \n",
       "\n",
       "                                                cast  \\\n",
       "0  Alan Marriott, Andrew Toth, Brian Dobson, Cole...   \n",
       "1                                   Jandino Asporaat   \n",
       "\n",
       "                                    country         date_added  release_year  \\\n",
       "0  United States, India, South Korea, China  September 9, 2019          2019   \n",
       "1                            United Kingdom  September 9, 2016          2016   \n",
       "\n",
       "  rating duration                           listed_in  \\\n",
       "0  TV-PG   90 min  Children & Family Movies, Comedies   \n",
       "1  TV-MA   94 min                     Stand-Up Comedy   \n",
       "\n",
       "                                         description  \n",
       "0  Before planning an awesome wedding for his gra...  \n",
       "1  Jandino Asporaat riffs on the challenges of ra...  "
      ]
     },
     "execution_count": 3,
     "metadata": {},
     "output_type": "execute_result"
    }
   ],
   "source": [
    "# check the first column of this dataframe, it not present in your csv\n",
    "df.head(2)"
   ]
  },
  {
   "cell_type": "code",
   "execution_count": 4,
   "metadata": {},
   "outputs": [
    {
     "data": {
      "text/plain": [
       "RangeIndex(start=0, stop=6234, step=1)"
      ]
     },
     "execution_count": 4,
     "metadata": {},
     "output_type": "execute_result"
    }
   ],
   "source": [
    "# 1. Check the index this dataframe\n",
    "df.index"
   ]
  },
  {
   "cell_type": "markdown",
   "metadata": {},
   "source": [
    "By default there is some number is index for all the rows. This index no. is created by the pandas you can change it to any of the unique identoifier of row, as per your requirement.\n",
    "In this example show_id is identoifier, hence we can set this column as default index rather than number."
   ]
  },
  {
   "cell_type": "code",
   "execution_count": 5,
   "metadata": {},
   "outputs": [
    {
     "data": {
      "text/plain": [
       "0       81145628\n",
       "1       80117401\n",
       "2       70234439\n",
       "3       80058654\n",
       "4       80125979\n",
       "          ...   \n",
       "6229    80000063\n",
       "6230    70286564\n",
       "6231    80116008\n",
       "6232    70281022\n",
       "6233    70153404\n",
       "Name: show_id, Length: 6234, dtype: int64"
      ]
     },
     "execution_count": 5,
     "metadata": {},
     "output_type": "execute_result"
    }
   ],
   "source": [
    "df.show_id"
   ]
  },
  {
   "cell_type": "code",
   "execution_count": 6,
   "metadata": {},
   "outputs": [],
   "source": [
    "# 2. Set the index of dataframe to given column\n",
    "df.set_index('show_id', inplace=True)"
   ]
  },
  {
   "cell_type": "code",
   "execution_count": 7,
   "metadata": {},
   "outputs": [
    {
     "data": {
      "text/html": [
       "<div>\n",
       "<style scoped>\n",
       "    .dataframe tbody tr th:only-of-type {\n",
       "        vertical-align: middle;\n",
       "    }\n",
       "\n",
       "    .dataframe tbody tr th {\n",
       "        vertical-align: top;\n",
       "    }\n",
       "\n",
       "    .dataframe thead th {\n",
       "        text-align: right;\n",
       "    }\n",
       "</style>\n",
       "<table border=\"1\" class=\"dataframe\">\n",
       "  <thead>\n",
       "    <tr style=\"text-align: right;\">\n",
       "      <th></th>\n",
       "      <th>type</th>\n",
       "      <th>title</th>\n",
       "      <th>director</th>\n",
       "      <th>cast</th>\n",
       "      <th>country</th>\n",
       "      <th>date_added</th>\n",
       "      <th>release_year</th>\n",
       "      <th>rating</th>\n",
       "      <th>duration</th>\n",
       "      <th>listed_in</th>\n",
       "      <th>description</th>\n",
       "    </tr>\n",
       "    <tr>\n",
       "      <th>show_id</th>\n",
       "      <th></th>\n",
       "      <th></th>\n",
       "      <th></th>\n",
       "      <th></th>\n",
       "      <th></th>\n",
       "      <th></th>\n",
       "      <th></th>\n",
       "      <th></th>\n",
       "      <th></th>\n",
       "      <th></th>\n",
       "      <th></th>\n",
       "    </tr>\n",
       "  </thead>\n",
       "  <tbody>\n",
       "    <tr>\n",
       "      <th>81145628</th>\n",
       "      <td>NaN</td>\n",
       "      <td>Norm of the North: King Sized Adventure</td>\n",
       "      <td>Richard Finn, Tim Maltby</td>\n",
       "      <td>Alan Marriott, Andrew Toth, Brian Dobson, Cole...</td>\n",
       "      <td>United States, India, South Korea, China</td>\n",
       "      <td>September 9, 2019</td>\n",
       "      <td>2019</td>\n",
       "      <td>TV-PG</td>\n",
       "      <td>90 min</td>\n",
       "      <td>Children &amp; Family Movies, Comedies</td>\n",
       "      <td>Before planning an awesome wedding for his gra...</td>\n",
       "    </tr>\n",
       "    <tr>\n",
       "      <th>80117401</th>\n",
       "      <td>NaN</td>\n",
       "      <td>Jandino: Whatever it Takes</td>\n",
       "      <td>NaN</td>\n",
       "      <td>Jandino Asporaat</td>\n",
       "      <td>United Kingdom</td>\n",
       "      <td>September 9, 2016</td>\n",
       "      <td>2016</td>\n",
       "      <td>TV-MA</td>\n",
       "      <td>94 min</td>\n",
       "      <td>Stand-Up Comedy</td>\n",
       "      <td>Jandino Asporaat riffs on the challenges of ra...</td>\n",
       "    </tr>\n",
       "    <tr>\n",
       "      <th>70234439</th>\n",
       "      <td>TV Show</td>\n",
       "      <td>Transformers Prime</td>\n",
       "      <td>NaN</td>\n",
       "      <td>Peter Cullen, Sumalee Montano, Frank Welker, J...</td>\n",
       "      <td>United States</td>\n",
       "      <td>September 8, 2018</td>\n",
       "      <td>2013</td>\n",
       "      <td>TV-Y7-FV</td>\n",
       "      <td>1 Season</td>\n",
       "      <td>Kids' TV</td>\n",
       "      <td>With the help of three human allies, the Autob...</td>\n",
       "    </tr>\n",
       "    <tr>\n",
       "      <th>80058654</th>\n",
       "      <td>TV Show</td>\n",
       "      <td>Transformers: Robots in Disguise</td>\n",
       "      <td>NaN</td>\n",
       "      <td>Will Friedle, Darren Criss, Constance Zimmer, ...</td>\n",
       "      <td>United States</td>\n",
       "      <td>September 8, 2018</td>\n",
       "      <td>2016</td>\n",
       "      <td>TV-Y7</td>\n",
       "      <td>1 Season</td>\n",
       "      <td>Kids' TV</td>\n",
       "      <td>When a prison ship crash unleashes hundreds of...</td>\n",
       "    </tr>\n",
       "    <tr>\n",
       "      <th>80125979</th>\n",
       "      <td>Movie</td>\n",
       "      <td>#realityhigh</td>\n",
       "      <td>Fernando Lebrija</td>\n",
       "      <td>Nesta Cooper, Kate Walsh, John Michael Higgins...</td>\n",
       "      <td>United States</td>\n",
       "      <td>September 8, 2017</td>\n",
       "      <td>2017</td>\n",
       "      <td>TV-14</td>\n",
       "      <td>99 min</td>\n",
       "      <td>Comedies</td>\n",
       "      <td>When nerdy high schooler Dani finally attracts...</td>\n",
       "    </tr>\n",
       "  </tbody>\n",
       "</table>\n",
       "</div>"
      ],
      "text/plain": [
       "             type                                    title  \\\n",
       "show_id                                                      \n",
       "81145628      NaN  Norm of the North: King Sized Adventure   \n",
       "80117401      NaN               Jandino: Whatever it Takes   \n",
       "70234439  TV Show                       Transformers Prime   \n",
       "80058654  TV Show         Transformers: Robots in Disguise   \n",
       "80125979    Movie                             #realityhigh   \n",
       "\n",
       "                          director  \\\n",
       "show_id                              \n",
       "81145628  Richard Finn, Tim Maltby   \n",
       "80117401                       NaN   \n",
       "70234439                       NaN   \n",
       "80058654                       NaN   \n",
       "80125979          Fernando Lebrija   \n",
       "\n",
       "                                                       cast  \\\n",
       "show_id                                                       \n",
       "81145628  Alan Marriott, Andrew Toth, Brian Dobson, Cole...   \n",
       "80117401                                   Jandino Asporaat   \n",
       "70234439  Peter Cullen, Sumalee Montano, Frank Welker, J...   \n",
       "80058654  Will Friedle, Darren Criss, Constance Zimmer, ...   \n",
       "80125979  Nesta Cooper, Kate Walsh, John Michael Higgins...   \n",
       "\n",
       "                                           country         date_added  \\\n",
       "show_id                                                                 \n",
       "81145628  United States, India, South Korea, China  September 9, 2019   \n",
       "80117401                            United Kingdom  September 9, 2016   \n",
       "70234439                             United States  September 8, 2018   \n",
       "80058654                             United States  September 8, 2018   \n",
       "80125979                             United States  September 8, 2017   \n",
       "\n",
       "          release_year    rating  duration  \\\n",
       "show_id                                      \n",
       "81145628          2019     TV-PG    90 min   \n",
       "80117401          2016     TV-MA    94 min   \n",
       "70234439          2013  TV-Y7-FV  1 Season   \n",
       "80058654          2016     TV-Y7  1 Season   \n",
       "80125979          2017     TV-14    99 min   \n",
       "\n",
       "                                   listed_in  \\\n",
       "show_id                                        \n",
       "81145628  Children & Family Movies, Comedies   \n",
       "80117401                     Stand-Up Comedy   \n",
       "70234439                            Kids' TV   \n",
       "80058654                            Kids' TV   \n",
       "80125979                            Comedies   \n",
       "\n",
       "                                                description  \n",
       "show_id                                                      \n",
       "81145628  Before planning an awesome wedding for his gra...  \n",
       "80117401  Jandino Asporaat riffs on the challenges of ra...  \n",
       "70234439  With the help of three human allies, the Autob...  \n",
       "80058654  When a prison ship crash unleashes hundreds of...  \n",
       "80125979  When nerdy high schooler Dani finally attracts...  "
      ]
     },
     "execution_count": 7,
     "metadata": {},
     "output_type": "execute_result"
    }
   ],
   "source": [
    "df.head()"
   ]
  },
  {
   "cell_type": "markdown",
   "metadata": {},
   "source": [
    "```python\n",
    "df.reset_index(inplace=True) \n",
    "```\n",
    "To reset the index as defuat RangeIndex"
   ]
  },
  {
   "cell_type": "code",
   "execution_count": 8,
   "metadata": {},
   "outputs": [
    {
     "data": {
      "text/plain": [
       "Int64Index([81145628, 80117401, 70234439, 80058654, 80125979, 80163890,\n",
       "            70304989, 80164077, 80117902, 70304990,\n",
       "            ...\n",
       "            70304979, 70153412, 70243132, 80005756, 80159925, 80000063,\n",
       "            70286564, 80116008, 70281022, 70153404],\n",
       "           dtype='int64', name='show_id', length=6234)"
      ]
     },
     "execution_count": 8,
     "metadata": {},
     "output_type": "execute_result"
    }
   ],
   "source": [
    "df.index"
   ]
  },
  {
   "cell_type": "markdown",
   "metadata": {},
   "source": [
    "Now we dont have that default integer as index, we can now select rows on the basis of show_id in loc"
   ]
  },
  {
   "cell_type": "code",
   "execution_count": 9,
   "metadata": {},
   "outputs": [
    {
     "data": {
      "text/plain": [
       "type                                                          NaN\n",
       "title                     Norm of the North: King Sized Adventure\n",
       "director                                 Richard Finn, Tim Maltby\n",
       "cast            Alan Marriott, Andrew Toth, Brian Dobson, Cole...\n",
       "country                  United States, India, South Korea, China\n",
       "date_added                                      September 9, 2019\n",
       "release_year                                                 2019\n",
       "rating                                                      TV-PG\n",
       "duration                                                   90 min\n",
       "listed_in                      Children & Family Movies, Comedies\n",
       "description     Before planning an awesome wedding for his gra...\n",
       "Name: 81145628, dtype: object"
      ]
     },
     "execution_count": 9,
     "metadata": {},
     "output_type": "execute_result"
    }
   ],
   "source": [
    "df.loc[81145628]"
   ]
  },
  {
   "cell_type": "markdown",
   "metadata": {},
   "source": [
    "#### Another way to set the index, at a time of datatframe creation."
   ]
  },
  {
   "cell_type": "code",
   "execution_count": 10,
   "metadata": {},
   "outputs": [],
   "source": [
    "# 4. Set index at the time of df creation\n",
    "newdf1 = pd.read_csv('netflix_titles.csv',index_col='show_id')"
   ]
  },
  {
   "cell_type": "code",
   "execution_count": 11,
   "metadata": {},
   "outputs": [
    {
     "data": {
      "text/plain": [
       "Int64Index([81145628, 80117401, 70234439, 80058654, 80125979, 80163890,\n",
       "            70304989, 80164077, 80117902, 70304990,\n",
       "            ...\n",
       "            70304979, 70153412, 70243132, 80005756, 80159925, 80000063,\n",
       "            70286564, 80116008, 70281022, 70153404],\n",
       "           dtype='int64', name='show_id', length=6234)"
      ]
     },
     "execution_count": 11,
     "metadata": {},
     "output_type": "execute_result"
    }
   ],
   "source": [
    "newdf1.index"
   ]
  },
  {
   "cell_type": "code",
   "execution_count": 12,
   "metadata": {},
   "outputs": [],
   "source": [
    "# 5. Sort the data, base on index\n",
    "newdf1.sort_index(ascending=True, inplace=True)"
   ]
  },
  {
   "cell_type": "code",
   "execution_count": 13,
   "metadata": {},
   "outputs": [
    {
     "data": {
      "text/html": [
       "<div>\n",
       "<style scoped>\n",
       "    .dataframe tbody tr th:only-of-type {\n",
       "        vertical-align: middle;\n",
       "    }\n",
       "\n",
       "    .dataframe tbody tr th {\n",
       "        vertical-align: top;\n",
       "    }\n",
       "\n",
       "    .dataframe thead th {\n",
       "        text-align: right;\n",
       "    }\n",
       "</style>\n",
       "<table border=\"1\" class=\"dataframe\">\n",
       "  <thead>\n",
       "    <tr style=\"text-align: right;\">\n",
       "      <th></th>\n",
       "      <th>type</th>\n",
       "      <th>title</th>\n",
       "      <th>director</th>\n",
       "      <th>cast</th>\n",
       "      <th>country</th>\n",
       "      <th>date_added</th>\n",
       "      <th>release_year</th>\n",
       "      <th>rating</th>\n",
       "      <th>duration</th>\n",
       "      <th>listed_in</th>\n",
       "      <th>description</th>\n",
       "    </tr>\n",
       "    <tr>\n",
       "      <th>show_id</th>\n",
       "      <th></th>\n",
       "      <th></th>\n",
       "      <th></th>\n",
       "      <th></th>\n",
       "      <th></th>\n",
       "      <th></th>\n",
       "      <th></th>\n",
       "      <th></th>\n",
       "      <th></th>\n",
       "      <th></th>\n",
       "      <th></th>\n",
       "    </tr>\n",
       "  </thead>\n",
       "  <tbody>\n",
       "    <tr>\n",
       "      <th>247747</th>\n",
       "      <td>Movie</td>\n",
       "      <td>Amar Akbar Anthony</td>\n",
       "      <td>Manmohan Desai</td>\n",
       "      <td>Vinod Khanna, Rishi Kapoor, Amitabh Bachchan, ...</td>\n",
       "      <td>India</td>\n",
       "      <td>December 31, 2019</td>\n",
       "      <td>1977</td>\n",
       "      <td>TV-14</td>\n",
       "      <td>172 min</td>\n",
       "      <td>Action &amp; Adventure, Classic Movies, Comedies</td>\n",
       "      <td>Abandoned in a park by their father, Amar, Akb...</td>\n",
       "    </tr>\n",
       "    <tr>\n",
       "      <th>269880</th>\n",
       "      <td>Movie</td>\n",
       "      <td>Bad Boys</td>\n",
       "      <td>Michael Bay</td>\n",
       "      <td>Will Smith, Martin Lawrence, Téa Leoni, Tchéky...</td>\n",
       "      <td>United States</td>\n",
       "      <td>October 1, 2019</td>\n",
       "      <td>1995</td>\n",
       "      <td>R</td>\n",
       "      <td>119 min</td>\n",
       "      <td>Action &amp; Adventure, Comedies</td>\n",
       "      <td>In this fast-paced actioner, two Miami narcoti...</td>\n",
       "    </tr>\n",
       "    <tr>\n",
       "      <th>281550</th>\n",
       "      <td>Movie</td>\n",
       "      <td>La Bamba</td>\n",
       "      <td>Luis Valdez</td>\n",
       "      <td>Lou Diamond Phillips, Esai Morales, Rosanna De...</td>\n",
       "      <td>United States</td>\n",
       "      <td>January 1, 2020</td>\n",
       "      <td>1987</td>\n",
       "      <td>PG-13</td>\n",
       "      <td>109 min</td>\n",
       "      <td>Classic Movies, Dramas, Music &amp; Musicals</td>\n",
       "      <td>The plane crash that killed Buddy Holly also t...</td>\n",
       "    </tr>\n",
       "    <tr>\n",
       "      <th>284890</th>\n",
       "      <td>Movie</td>\n",
       "      <td>Barsaat</td>\n",
       "      <td>Rajkumar Santoshi</td>\n",
       "      <td>Twinkle Khanna, Bobby Deol, Danny Denzongpa, R...</td>\n",
       "      <td>India</td>\n",
       "      <td>April 1, 2018</td>\n",
       "      <td>1995</td>\n",
       "      <td>TV-PG</td>\n",
       "      <td>166 min</td>\n",
       "      <td>Action &amp; Adventure, International Movies, Musi...</td>\n",
       "      <td>A naïve young man and a rich city girl fall in...</td>\n",
       "    </tr>\n",
       "    <tr>\n",
       "      <th>292118</th>\n",
       "      <td>Movie</td>\n",
       "      <td>Beavis and Butt-head Do America</td>\n",
       "      <td>Mike Judge</td>\n",
       "      <td>Mike Judge, Bruce Willis, Demi Moore, Cloris L...</td>\n",
       "      <td>United States</td>\n",
       "      <td>November 20, 2019</td>\n",
       "      <td>1996</td>\n",
       "      <td>PG-13</td>\n",
       "      <td>81 min</td>\n",
       "      <td>Comedies, Cult Movies</td>\n",
       "      <td>After realizing that their boob tube is gone, ...</td>\n",
       "    </tr>\n",
       "  </tbody>\n",
       "</table>\n",
       "</div>"
      ],
      "text/plain": [
       "          type                            title           director  \\\n",
       "show_id                                                              \n",
       "247747   Movie               Amar Akbar Anthony     Manmohan Desai   \n",
       "269880   Movie                         Bad Boys        Michael Bay   \n",
       "281550   Movie                         La Bamba        Luis Valdez   \n",
       "284890   Movie                          Barsaat  Rajkumar Santoshi   \n",
       "292118   Movie  Beavis and Butt-head Do America         Mike Judge   \n",
       "\n",
       "                                                      cast        country  \\\n",
       "show_id                                                                     \n",
       "247747   Vinod Khanna, Rishi Kapoor, Amitabh Bachchan, ...          India   \n",
       "269880   Will Smith, Martin Lawrence, Téa Leoni, Tchéky...  United States   \n",
       "281550   Lou Diamond Phillips, Esai Morales, Rosanna De...  United States   \n",
       "284890   Twinkle Khanna, Bobby Deol, Danny Denzongpa, R...          India   \n",
       "292118   Mike Judge, Bruce Willis, Demi Moore, Cloris L...  United States   \n",
       "\n",
       "                date_added  release_year rating duration  \\\n",
       "show_id                                                    \n",
       "247747   December 31, 2019          1977  TV-14  172 min   \n",
       "269880     October 1, 2019          1995      R  119 min   \n",
       "281550     January 1, 2020          1987  PG-13  109 min   \n",
       "284890       April 1, 2018          1995  TV-PG  166 min   \n",
       "292118   November 20, 2019          1996  PG-13   81 min   \n",
       "\n",
       "                                                 listed_in  \\\n",
       "show_id                                                      \n",
       "247747        Action & Adventure, Classic Movies, Comedies   \n",
       "269880                        Action & Adventure, Comedies   \n",
       "281550            Classic Movies, Dramas, Music & Musicals   \n",
       "284890   Action & Adventure, International Movies, Musi...   \n",
       "292118                               Comedies, Cult Movies   \n",
       "\n",
       "                                               description  \n",
       "show_id                                                     \n",
       "247747   Abandoned in a park by their father, Amar, Akb...  \n",
       "269880   In this fast-paced actioner, two Miami narcoti...  \n",
       "281550   The plane crash that killed Buddy Holly also t...  \n",
       "284890   A naïve young man and a rich city girl fall in...  \n",
       "292118   After realizing that their boob tube is gone, ...  "
      ]
     },
     "execution_count": 13,
     "metadata": {},
     "output_type": "execute_result"
    }
   ],
   "source": [
    "newdf1.head()"
   ]
  },
  {
   "cell_type": "code",
   "execution_count": 14,
   "metadata": {},
   "outputs": [],
   "source": [
    "# now movie title is the index\n",
    "newdf2 = pd.read_csv('netflix_titles.csv',index_col='title')"
   ]
  },
  {
   "cell_type": "code",
   "execution_count": 15,
   "metadata": {},
   "outputs": [
    {
     "data": {
      "text/plain": [
       "show_id                                                  70234439\n",
       "type                                                      TV Show\n",
       "director                                                      NaN\n",
       "cast            Peter Cullen, Sumalee Montano, Frank Welker, J...\n",
       "country                                             United States\n",
       "date_added                                      September 8, 2018\n",
       "release_year                                                 2013\n",
       "rating                                                   TV-Y7-FV\n",
       "duration                                                 1 Season\n",
       "listed_in                                                Kids' TV\n",
       "description     With the help of three human allies, the Autob...\n",
       "Name: Transformers Prime, dtype: object"
      ]
     },
     "execution_count": 15,
     "metadata": {},
     "output_type": "execute_result"
    }
   ],
   "source": [
    "# filter the row on the basis of the movie title.\n",
    "newdf2.loc['Transformers Prime']"
   ]
  },
  {
   "cell_type": "code",
   "execution_count": 16,
   "metadata": {},
   "outputs": [
    {
     "data": {
      "text/plain": [
       "'With the help of three human allies, the Autobots once again protect Earth from the onslaught of the Decepticons and their leader, Megatron.'"
      ]
     },
     "execution_count": 16,
     "metadata": {},
     "output_type": "execute_result"
    }
   ],
   "source": [
    "# Full column value\n",
    "newdf2.loc['Transformers Prime','description']"
   ]
  }
 ],
 "metadata": {
  "kernelspec": {
   "display_name": "Python 3",
   "language": "python",
   "name": "python3"
  },
  "language_info": {
   "codemirror_mode": {
    "name": "ipython",
    "version": 3
   },
   "file_extension": ".py",
   "mimetype": "text/x-python",
   "name": "python",
   "nbconvert_exporter": "python",
   "pygments_lexer": "ipython3",
   "version": "3.7.7"
  }
 },
 "nbformat": 4,
 "nbformat_minor": 4
}
