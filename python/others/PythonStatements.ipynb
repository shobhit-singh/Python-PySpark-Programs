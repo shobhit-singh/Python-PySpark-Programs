{
 "cells": [
  {
   "cell_type": "markdown",
   "metadata": {},
   "source": [
    "__Python Statements & Control Flow__ <br>\n",
    "In Python statements are executed line by line in function or method. But we can control the flow of program using if/else or loops.\n",
    "\n",
    "* If- Elif - Else (Conditional execution)\n",
    "* Loops - If & While (Repetition execution)\n",
    "* Pass, Break * Continue"
   ]
  },
  {
   "cell_type": "markdown",
   "metadata": {},
   "source": [
    "#### If- Elif - Else"
   ]
  },
  {
   "cell_type": "code",
   "execution_count": 1,
   "metadata": {},
   "outputs": [],
   "source": [
    "x = 5\n",
    "\n",
    "if x%2==0:\n",
    "    print('Even')\n",
    "else:\n",
    "    print('Odd')"
   ]
  },
  {
   "cell_type": "code",
   "execution_count": 2,
   "metadata": {},
   "outputs": [
    {
     "name": "stdout",
     "output_type": "stream",
     "text": [
      "SUBDIVISION\n"
     ]
    }
   ],
   "source": [
    "x = 'SUBDIVISION'\n",
    "\n",
    "if x=='COUNTY':\n",
    "    print('County')\n",
    "elif x=='STATE':\n",
    "    print('State')\n",
    "else:\n",
    "    print(x)"
   ]
  },
  {
   "cell_type": "code",
   "execution_count": 3,
   "metadata": {},
   "outputs": [
    {
     "name": "stdout",
     "output_type": "stream",
     "text": [
      "True\n"
     ]
    }
   ],
   "source": [
    "x = True\n",
    "\n",
    "if x:\n",
    "    print('True')\n",
    "elif not x:\n",
    "    print('False')"
   ]
  },
  {
   "cell_type": "markdown",
   "metadata": {},
   "source": [
    "#### For Loops"
   ]
  },
  {
   "cell_type": "code",
   "execution_count": 4,
   "metadata": {},
   "outputs": [
    {
     "name": "stdout",
     "output_type": "stream",
     "text": [
      "0 1 2 3 4 5 "
     ]
    }
   ],
   "source": [
    "x = [0,1,2,3,4,5]\n",
    "for i in x:\n",
    "    print(i, end=' ')"
   ]
  },
  {
   "cell_type": "markdown",
   "metadata": {},
   "source": [
    "Iterating List, Dict, Tuple, Set & String."
   ]
  },
  {
   "cell_type": "code",
   "execution_count": 5,
   "metadata": {},
   "outputs": [
    {
     "name": "stdout",
     "output_type": "stream",
     "text": [
      "A B C D Hello Python \n",
      "\n",
      "('a', 'b') (1, 3) ('c', 'd') a 1 c b 3 d "
     ]
    }
   ],
   "source": [
    "str_list = ['A','B','C','D','Hello Python']\n",
    "nested_list = [('a','b'), (1,3), ('c','d')]\n",
    "\n",
    "# iterating lists\n",
    "for item in str_list:\n",
    "    print(item, end=' ')\n",
    "print('\\n')\n",
    "for item in nested_list:\n",
    "    print(item, end=' ')\n",
    "# Tuple unpacking \n",
    "for i,j in nested_list:\n",
    "    print(i, end=' ')\n",
    "for i,j in nested_list:\n",
    "    print(j, end=' ')"
   ]
  },
  {
   "cell_type": "code",
   "execution_count": 6,
   "metadata": {},
   "outputs": [
    {
     "name": "stdout",
     "output_type": "stream",
     "text": [
      "N\n",
      "S\n",
      "E\n",
      "W\n"
     ]
    }
   ],
   "source": [
    "my_dict = { \"N\": \"North\", \"S\": \"South\", \"E\": \"East\", \"W\": \"West\" } \n",
    "\n",
    "# iterating dictionary - by default it will print keys\n",
    "for item in my_dict:\n",
    "    print(item)"
   ]
  },
  {
   "cell_type": "code",
   "execution_count": 7,
   "metadata": {},
   "outputs": [
    {
     "name": "stdout",
     "output_type": "stream",
     "text": [
      "('N', 'North') ('S', 'South') ('E', 'East') ('W', 'West') \n",
      "\n",
      "N -- North S -- South E -- East W -- West \n",
      "\n",
      "N S E W \n",
      "\n",
      "North South East West "
     ]
    }
   ],
   "source": [
    "my_dict = { \"N\": \"North\", \"S\": \"South\", \"E\": \"East\", \"W\": \"West\" } \n",
    "\n",
    "# iterating dictionary items, values & keys\n",
    "for item in my_dict.items():\n",
    "    print(item, end=' ')\n",
    "print('\\n')\n",
    "# here we can use tuple unpacking    \n",
    "for k,v in my_dict.items():\n",
    "    print(k + ' -- ' + v , end=' ')    \n",
    "# other ways\n",
    "print('\\n')\n",
    "for item in my_dict.keys():\n",
    "    print(item, end=' ')\n",
    "print('\\n')\n",
    "for item in my_dict.values():\n",
    "    print(item, end=' ')"
   ]
  },
  {
   "cell_type": "code",
   "execution_count": 8,
   "metadata": {},
   "outputs": [
    {
     "name": "stdout",
     "output_type": "stream",
     "text": [
      "North South East West \n",
      "\n",
      "1 South 5.5 ('A', 'B', 'C') [0, 1, 2] "
     ]
    }
   ],
   "source": [
    "my_tup  =  ('North','South','East','West')\n",
    "my_nested_tup  =  tuple((1,'South',5.5,('A','B','C'),[0,1,2]))\n",
    "\n",
    "# iterating tuple\n",
    "\n",
    "for item in my_tup:\n",
    "    print(item, end=' ')\n",
    "print('\\n') \n",
    "for item in my_nested_tup:\n",
    "    print(item, end=' ')"
   ]
  },
  {
   "cell_type": "code",
   "execution_count": 9,
   "metadata": {},
   "outputs": [
    {
     "name": "stdout",
     "output_type": "stream",
     "text": [
      "P y t h o n   l a n g u a g e "
     ]
    }
   ],
   "source": [
    "# iterating string\n",
    "x = 'Python language'\n",
    "for item in x:\n",
    "    print(item, end=' ')"
   ]
  },
  {
   "cell_type": "code",
   "execution_count": 10,
   "metadata": {},
   "outputs": [
    {
     "name": "stdout",
     "output_type": "stream",
     "text": [
      "b 5 4 a c "
     ]
    }
   ],
   "source": [
    "# iterating sets\n",
    "my_set = set([\"a\", \"b\",\"c\", 4, 5])\n",
    "for item in my_set:\n",
    "    print(item, end=' ')"
   ]
  },
  {
   "cell_type": "markdown",
   "metadata": {},
   "source": [
    "#### While Loops"
   ]
  },
  {
   "cell_type": "code",
   "execution_count": 11,
   "metadata": {},
   "outputs": [
    {
     "name": "stdout",
     "output_type": "stream",
     "text": [
      "0 2 4 6 8 10 "
     ]
    }
   ],
   "source": [
    "# lets print even numbers using while\n",
    "x = 0\n",
    "while x <= 10:\n",
    "    if x%2==0:\n",
    "        print(x, end=' ')\n",
    "    x+=1"
   ]
  },
  {
   "cell_type": "markdown",
   "metadata": {},
   "source": [
    "#### Pass, Break & Continue"
   ]
  },
  {
   "cell_type": "code",
   "execution_count": 12,
   "metadata": {},
   "outputs": [],
   "source": [
    "# Pass does nothing, its just help you for setting placeholder. \n",
    "x = 0\n",
    "while x <= 10:\n",
    "    if x%2==0:\n",
    "        pass\n",
    "    x+=1"
   ]
  },
  {
   "cell_type": "code",
   "execution_count": 13,
   "metadata": {},
   "outputs": [
    {
     "name": "stdout",
     "output_type": "stream",
     "text": [
      "P t h o n "
     ]
    }
   ],
   "source": [
    "# Continue - Goes to top  of loop\n",
    "# let say we are printing string & dont want to print specific char\n",
    "x = 'Python'\n",
    "for i in x:\n",
    "    if i =='y':\n",
    "        continue\n",
    "    print(i, end=' ')\n",
    "    "
   ]
  },
  {
   "cell_type": "code",
   "execution_count": 14,
   "metadata": {},
   "outputs": [
    {
     "name": "stdout",
     "output_type": "stream",
     "text": [
      "P y "
     ]
    }
   ],
   "source": [
    "# Break - break out of current loop \n",
    "# let say we are printing string & dont want to print specific char\n",
    "x = 'Python'\n",
    "for i in x:\n",
    "    if i =='t':\n",
    "        break\n",
    "    print(i, end=' ')"
   ]
  }
 ],
 "metadata": {
  "kernelspec": {
   "display_name": "Python 3",
   "language": "python",
   "name": "python3"
  },
  "language_info": {
   "codemirror_mode": {
    "name": "ipython",
    "version": 3
   },
   "file_extension": ".py",
   "mimetype": "text/x-python",
   "name": "python",
   "nbconvert_exporter": "python",
   "pygments_lexer": "ipython3",
   "version": "3.7.7"
  }
 },
 "nbformat": 4,
 "nbformat_minor": 4
}
