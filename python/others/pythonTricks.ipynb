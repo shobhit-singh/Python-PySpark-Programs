{
 "cells": [
  {
   "cell_type": "markdown",
   "id": "e8bfaa03",
   "metadata": {},
   "source": [
    "#### Some Python Tricks"
   ]
  },
  {
   "cell_type": "code",
   "execution_count": 20,
   "id": "26a7acb6",
   "metadata": {},
   "outputs": [],
   "source": [
    "from collections import Counter\n",
    "my_list = [1,1,1,1,2,2,3,3,4,4,3,4,4,4,5,6]\n",
    "c = Counter(my_list)"
   ]
  },
  {
   "cell_type": "code",
   "execution_count": 21,
   "id": "33a71e65",
   "metadata": {},
   "outputs": [
    {
     "data": {
      "text/plain": [
       "Counter({1: 4, 2: 2, 3: 3, 4: 5, 5: 1, 6: 1})"
      ]
     },
     "execution_count": 21,
     "metadata": {},
     "output_type": "execute_result"
    }
   ],
   "source": [
    "c"
   ]
  },
  {
   "cell_type": "code",
   "execution_count": 23,
   "id": "f52551d7",
   "metadata": {},
   "outputs": [
    {
     "data": {
      "text/plain": [
       "[(4, 5), (1, 4)]"
      ]
     },
     "execution_count": 23,
     "metadata": {},
     "output_type": "execute_result"
    }
   ],
   "source": [
    "c.most_common(2)"
   ]
  },
  {
   "cell_type": "markdown",
   "id": "8998148f",
   "metadata": {},
   "source": [
    "##### Reduce"
   ]
  },
  {
   "cell_type": "code",
   "execution_count": null,
   "id": "4f24be6b",
   "metadata": {},
   "outputs": [],
   "source": []
  },
  {
   "cell_type": "markdown",
   "id": "215c109a",
   "metadata": {},
   "source": [
    "##### any or all"
   ]
  },
  {
   "cell_type": "code",
   "execution_count": 11,
   "id": "b4732052",
   "metadata": {},
   "outputs": [
    {
     "name": "stdout",
     "output_type": "stream",
     "text": [
      "ok\n"
     ]
    }
   ],
   "source": [
    "x = 5\n",
    "y = 10\n",
    "\n",
    "conditions = [ x > 1, y > 1 ]\n",
    "\n",
    "if all(conditions):\n",
    "    print(\"ok\")"
   ]
  },
  {
   "cell_type": "code",
   "execution_count": 12,
   "id": "6a7cc84a",
   "metadata": {},
   "outputs": [
    {
     "name": "stdout",
     "output_type": "stream",
     "text": [
      "ok\n"
     ]
    }
   ],
   "source": [
    "x = 5\n",
    "y = 0\n",
    "\n",
    "conditions = [ x > 1, y > 1 ]\n",
    "\n",
    "if any(conditions):\n",
    "    print(\"ok\")"
   ]
  },
  {
   "cell_type": "markdown",
   "id": "fc635aab",
   "metadata": {},
   "source": [
    "##### Swapping"
   ]
  },
  {
   "cell_type": "code",
   "execution_count": 13,
   "id": "dc056787",
   "metadata": {},
   "outputs": [
    {
     "name": "stdout",
     "output_type": "stream",
     "text": [
      "10 5\n"
     ]
    }
   ],
   "source": [
    "x = 5\n",
    "y = 10\n",
    "\n",
    "x,y = y,x\n",
    "print(x,y)"
   ]
  },
  {
   "cell_type": "markdown",
   "id": "50a9c9f6",
   "metadata": {},
   "source": [
    "##### Most repeated element from list"
   ]
  },
  {
   "cell_type": "code",
   "execution_count": 19,
   "id": "3ebc5e18",
   "metadata": {},
   "outputs": [
    {
     "data": {
      "text/plain": [
       "2"
      ]
     },
     "execution_count": 19,
     "metadata": {},
     "output_type": "execute_result"
    }
   ],
   "source": [
    "x = [1,2,33,4,1,2,33,4,5,6,77,5,6,2]\n",
    "max(set(x), key =x.count)"
   ]
  },
  {
   "cell_type": "code",
   "execution_count": null,
   "id": "08990d72",
   "metadata": {},
   "outputs": [],
   "source": []
  }
 ],
 "metadata": {
  "kernelspec": {
   "display_name": "Python 3",
   "language": "python",
   "name": "python3"
  },
  "language_info": {
   "codemirror_mode": {
    "name": "ipython",
    "version": 3
   },
   "file_extension": ".py",
   "mimetype": "text/x-python",
   "name": "python",
   "nbconvert_exporter": "python",
   "pygments_lexer": "ipython3",
   "version": "3.6.12"
  }
 },
 "nbformat": 4,
 "nbformat_minor": 5
}
