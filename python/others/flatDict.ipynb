{
 "cells": [
  {
   "cell_type": "code",
   "execution_count": 8,
   "id": "f54e4be4",
   "metadata": {},
   "outputs": [],
   "source": [
    "def print_dict(v, prefix=''): \n",
    "    if isinstance(v, dict):\n",
    "        for k, v2 in v.items():\n",
    "            p2 = \"{}.{}\".format(prefix, k)\n",
    "            print_dict(v2, p2)           # recursive call\n",
    "    elif isinstance(v, list):\n",
    "        for i, v2 in enumerate(v):\n",
    "            p2 = \"{}{}\".format(prefix, i)\n",
    "            print_dict(v2, p2)           # recursive call\n",
    "    else:\n",
    "        g.append(['{}'.format(prefix),v])\n",
    "    \n",
    "    return g"
   ]
  },
  {
   "cell_type": "code",
   "execution_count": 9,
   "id": "69b4317a",
   "metadata": {},
   "outputs": [],
   "source": [
    "my_dict4 = { 'Aphabets' : { 'A':{'Fruit':'Apple','Object':'Aeroplane'},'B':{'Fruit':'Banana','Object':'Ball'}} , \n",
    "             'Numbers'  : {  0: 'Zero', 1:'One', 2:'Two', 3:'Three', 4:'Four', 5:'Five', 6:'Six', 7:'Seven'} \n",
    "           } "
   ]
  },
  {
   "cell_type": "code",
   "execution_count": 10,
   "id": "0b451954",
   "metadata": {},
   "outputs": [],
   "source": [
    "g=[]"
   ]
  },
  {
   "cell_type": "code",
   "execution_count": 11,
   "id": "69e0485f",
   "metadata": {},
   "outputs": [
    {
     "data": {
      "text/plain": [
       "[['.Aphabets.A.Fruit', 'Apple'],\n",
       " ['.Aphabets.A.Object', 'Aeroplane'],\n",
       " ['.Aphabets.B.Fruit', 'Banana'],\n",
       " ['.Aphabets.B.Object', 'Ball'],\n",
       " ['.Numbers.0', 'Zero'],\n",
       " ['.Numbers.1', 'One'],\n",
       " ['.Numbers.2', 'Two'],\n",
       " ['.Numbers.3', 'Three'],\n",
       " ['.Numbers.4', 'Four'],\n",
       " ['.Numbers.5', 'Five'],\n",
       " ['.Numbers.6', 'Six'],\n",
       " ['.Numbers.7', 'Seven']]"
      ]
     },
     "execution_count": 11,
     "metadata": {},
     "output_type": "execute_result"
    }
   ],
   "source": [
    "print_dict(my_dict4,'')"
   ]
  },
  {
   "cell_type": "code",
   "execution_count": 12,
   "id": "9b7fbdd7",
   "metadata": {},
   "outputs": [],
   "source": [
    "def flatten_dict(input_node: dict, key_: str = '', output_dict: dict = {}):\n",
    "    if isinstance(input_node, dict):\n",
    "        for key, val in input_node.items():\n",
    "            new_key = f\"{key_}.{key}\" if key_ else f\"{key}\"\n",
    "            flatten_dict(val, new_key, output_dict)\n",
    "    elif isinstance(input_node, list):\n",
    "        for idx, item in enumerate(input_node):\n",
    "            flatten_dict(item, f\"{key_}.{idx}\", output_dict)\n",
    "    else:\n",
    "        output_dict[key_] = input_node\n",
    "    return output_dict"
   ]
  },
  {
   "cell_type": "code",
   "execution_count": 13,
   "id": "4fbc8355",
   "metadata": {},
   "outputs": [
    {
     "data": {
      "text/plain": [
       "{'Aphabets.A.Fruit': 'Apple',\n",
       " 'Aphabets.A.Object': 'Aeroplane',\n",
       " 'Aphabets.B.Fruit': 'Banana',\n",
       " 'Aphabets.B.Object': 'Ball',\n",
       " 'Numbers.0': 'Zero',\n",
       " 'Numbers.1': 'One',\n",
       " 'Numbers.2': 'Two',\n",
       " 'Numbers.3': 'Three',\n",
       " 'Numbers.4': 'Four',\n",
       " 'Numbers.5': 'Five',\n",
       " 'Numbers.6': 'Six',\n",
       " 'Numbers.7': 'Seven'}"
      ]
     },
     "execution_count": 13,
     "metadata": {},
     "output_type": "execute_result"
    }
   ],
   "source": [
    "flatten_dict(my_dict4)"
   ]
  }
 ],
 "metadata": {
  "kernelspec": {
   "display_name": "Python 3",
   "language": "python",
   "name": "python3"
  },
  "language_info": {
   "codemirror_mode": {
    "name": "ipython",
    "version": 3
   },
   "file_extension": ".py",
   "mimetype": "text/x-python",
   "name": "python",
   "nbconvert_exporter": "python",
   "pygments_lexer": "ipython3",
   "version": "3.6.12"
  }
 },
 "nbformat": 4,
 "nbformat_minor": 5
}
